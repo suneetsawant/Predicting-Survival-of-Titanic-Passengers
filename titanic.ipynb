{
 "cells": [
  {
   "cell_type": "markdown",
   "metadata": {},
   "source": [
    "# Titanic Project \n",
    " Hello fellow kagglers. This is my first project on kaggle (like every other user) and I am sharing my approach \n",
    " for predicting survival of Titanic passengers.\n",
    " We will follow the following steps : \n",
    "-  Pick a variable \n",
    "-  Do univariate/Multivariate analysis\n",
    "-  Build a classification Model (Decision trees)\n",
    "-  Use cross-validation technique(25 fold) so that we are able to generalize the model and avoid overfitting. \n",
    "-  Add another variable and loop through the above steps.\n",
    "  "
   ]
  },
  {
   "cell_type": "markdown",
   "metadata": {},
   "source": [
    "Lets Start with loading our train and test data. I will be using seaborn for plotting and visualization."
   ]
  },
  {
   "cell_type": "code",
   "execution_count": 1,
   "metadata": {},
   "outputs": [
    {
     "name": "stderr",
     "output_type": "stream",
     "text": [
      "/usr/local/lib/python2.7/dist-packages/pandas/core/computation/__init__.py:18: UserWarning: The installed version of numexpr 2.4.3 is not supported in pandas and will be not be used\n",
      "The minimum supported version is 2.4.6\n",
      "\n",
      "  ver=ver, min_ver=_MIN_NUMEXPR_VERSION), UserWarning)\n"
     ]
    }
   ],
   "source": [
    "%matplotlib inline\n",
    "import pandas as pd\n",
    "import numpy as np\n",
    "import seaborn as sns\n",
    "import matplotlib.pyplot as plt\n",
    "sns.set(style=\"darkgrid\")\n",
    "Train = pd.read_csv('train.csv')\n",
    "Test = pd.read_csv('test.csv')"
   ]
  },
  {
   "cell_type": "markdown",
   "metadata": {},
   "source": [
    "Lets have a look at the general information of our training data"
   ]
  },
  {
   "cell_type": "code",
   "execution_count": 2,
   "metadata": {
    "scrolled": true
   },
   "outputs": [
    {
     "name": "stdout",
     "output_type": "stream",
     "text": [
      "<class 'pandas.core.frame.DataFrame'>\n",
      "RangeIndex: 891 entries, 0 to 890\n",
      "Data columns (total 12 columns):\n",
      "PassengerId    891 non-null int64\n",
      "Survived       891 non-null int64\n",
      "Pclass         891 non-null int64\n",
      "Name           891 non-null object\n",
      "Sex            891 non-null object\n",
      "Age            714 non-null float64\n",
      "SibSp          891 non-null int64\n",
      "Parch          891 non-null int64\n",
      "Ticket         891 non-null object\n",
      "Fare           891 non-null float64\n",
      "Cabin          204 non-null object\n",
      "Embarked       889 non-null object\n",
      "dtypes: float64(2), int64(5), object(5)\n",
      "memory usage: 83.6+ KB\n"
     ]
    }
   ],
   "source": [
    "Train.info()"
   ]
  },
  {
   "cell_type": "markdown",
   "metadata": {},
   "source": [
    "There are total 12 columns(potential features) with 891 training examples. The features Age,Cabin,Embarked have missing values which we will deal later. Lets look at first 5 training examples."
   ]
  },
  {
   "cell_type": "code",
   "execution_count": 3,
   "metadata": {},
   "outputs": [
    {
     "data": {
      "text/html": [
       "<div>\n",
       "<style>\n",
       "    .dataframe thead tr:only-child th {\n",
       "        text-align: right;\n",
       "    }\n",
       "\n",
       "    .dataframe thead th {\n",
       "        text-align: left;\n",
       "    }\n",
       "\n",
       "    .dataframe tbody tr th {\n",
       "        vertical-align: top;\n",
       "    }\n",
       "</style>\n",
       "<table border=\"1\" class=\"dataframe\">\n",
       "  <thead>\n",
       "    <tr style=\"text-align: right;\">\n",
       "      <th></th>\n",
       "      <th>PassengerId</th>\n",
       "      <th>Survived</th>\n",
       "      <th>Pclass</th>\n",
       "      <th>Name</th>\n",
       "      <th>Sex</th>\n",
       "      <th>Age</th>\n",
       "      <th>SibSp</th>\n",
       "      <th>Parch</th>\n",
       "      <th>Ticket</th>\n",
       "      <th>Fare</th>\n",
       "      <th>Cabin</th>\n",
       "      <th>Embarked</th>\n",
       "    </tr>\n",
       "  </thead>\n",
       "  <tbody>\n",
       "    <tr>\n",
       "      <th>0</th>\n",
       "      <td>1</td>\n",
       "      <td>0</td>\n",
       "      <td>3</td>\n",
       "      <td>Braund, Mr. Owen Harris</td>\n",
       "      <td>male</td>\n",
       "      <td>22.0</td>\n",
       "      <td>1</td>\n",
       "      <td>0</td>\n",
       "      <td>A/5 21171</td>\n",
       "      <td>7.2500</td>\n",
       "      <td>NaN</td>\n",
       "      <td>S</td>\n",
       "    </tr>\n",
       "    <tr>\n",
       "      <th>1</th>\n",
       "      <td>2</td>\n",
       "      <td>1</td>\n",
       "      <td>1</td>\n",
       "      <td>Cumings, Mrs. John Bradley (Florence Briggs Th...</td>\n",
       "      <td>female</td>\n",
       "      <td>38.0</td>\n",
       "      <td>1</td>\n",
       "      <td>0</td>\n",
       "      <td>PC 17599</td>\n",
       "      <td>71.2833</td>\n",
       "      <td>C85</td>\n",
       "      <td>C</td>\n",
       "    </tr>\n",
       "    <tr>\n",
       "      <th>2</th>\n",
       "      <td>3</td>\n",
       "      <td>1</td>\n",
       "      <td>3</td>\n",
       "      <td>Heikkinen, Miss. Laina</td>\n",
       "      <td>female</td>\n",
       "      <td>26.0</td>\n",
       "      <td>0</td>\n",
       "      <td>0</td>\n",
       "      <td>STON/O2. 3101282</td>\n",
       "      <td>7.9250</td>\n",
       "      <td>NaN</td>\n",
       "      <td>S</td>\n",
       "    </tr>\n",
       "    <tr>\n",
       "      <th>3</th>\n",
       "      <td>4</td>\n",
       "      <td>1</td>\n",
       "      <td>1</td>\n",
       "      <td>Futrelle, Mrs. Jacques Heath (Lily May Peel)</td>\n",
       "      <td>female</td>\n",
       "      <td>35.0</td>\n",
       "      <td>1</td>\n",
       "      <td>0</td>\n",
       "      <td>113803</td>\n",
       "      <td>53.1000</td>\n",
       "      <td>C123</td>\n",
       "      <td>S</td>\n",
       "    </tr>\n",
       "    <tr>\n",
       "      <th>4</th>\n",
       "      <td>5</td>\n",
       "      <td>0</td>\n",
       "      <td>3</td>\n",
       "      <td>Allen, Mr. William Henry</td>\n",
       "      <td>male</td>\n",
       "      <td>35.0</td>\n",
       "      <td>0</td>\n",
       "      <td>0</td>\n",
       "      <td>373450</td>\n",
       "      <td>8.0500</td>\n",
       "      <td>NaN</td>\n",
       "      <td>S</td>\n",
       "    </tr>\n",
       "  </tbody>\n",
       "</table>\n",
       "</div>"
      ],
      "text/plain": [
       "   PassengerId  Survived  Pclass  \\\n",
       "0            1         0       3   \n",
       "1            2         1       1   \n",
       "2            3         1       3   \n",
       "3            4         1       1   \n",
       "4            5         0       3   \n",
       "\n",
       "                                                Name     Sex   Age  SibSp  \\\n",
       "0                            Braund, Mr. Owen Harris    male  22.0      1   \n",
       "1  Cumings, Mrs. John Bradley (Florence Briggs Th...  female  38.0      1   \n",
       "2                             Heikkinen, Miss. Laina  female  26.0      0   \n",
       "3       Futrelle, Mrs. Jacques Heath (Lily May Peel)  female  35.0      1   \n",
       "4                           Allen, Mr. William Henry    male  35.0      0   \n",
       "\n",
       "   Parch            Ticket     Fare Cabin Embarked  \n",
       "0      0         A/5 21171   7.2500   NaN        S  \n",
       "1      0          PC 17599  71.2833   C85        C  \n",
       "2      0  STON/O2. 3101282   7.9250   NaN        S  \n",
       "3      0            113803  53.1000  C123        S  \n",
       "4      0            373450   8.0500   NaN        S  "
      ]
     },
     "execution_count": 3,
     "metadata": {},
     "output_type": "execute_result"
    }
   ],
   "source": [
    "Train.head()"
   ]
  },
  {
   "cell_type": "markdown",
   "metadata": {},
   "source": [
    "Survived is our target variable. PassengerId is just the id given to each passengers. It doesn't influence survival of a person in any way therefore no need to consider it as a feature. Further we can divide our data as follows:\n",
    "- __Numerical Data__ :\n",
    "    - __Pclass__ determines the socio economic status of the passenger. It is a categorical variable and takes on values (1,2,3) with 1 being the upper most class. Initial thoughts: It may be the case that higher class passengers were given a preference while escaping on life boats. Potentially a strong candidate to determine survival.\n",
    "    - __Age__ is a discreet variable and might strongly relate to survival as maybe children were given preference.\n",
    "    - __Parch__ and __Sibsp__ are another discreet variables. How does number of sibling or parnet/chidren affect? Well maybe a man/woman with child was given a preference. Or we can create another feature as family size combining these two and analyse its effect survival, something which we will explore later.(reference)\n",
    "    - __Fare__ is another continuos variable. It maybe the case those who paid the most(rich guys) were given preference during evacuation.\n",
    "- __Non-numerical Data__ : \n",
    "    - __Sex__ of the passenger, a binary variable will be an important feature. If we go by the old saying, women and children were to be rescued first. Lets see if titanic sailors followed the code.\n",
    "    - __Embarked__ is another categorical variable indicating where passengers embarked. It takes on values values (S,C,Q)\n",
    "    - __Name__ of passengers has titles like Mr,miss,etc and maybe that affected survival in some way.\n",
    "    - __Cabin__ alloted to the passengers. This feature has lots of missing values. It may either mean that many passenges were not alloted cabin and that somehow affected the survival. \n",
    "    - __Ticket__ is a string of characters. We can use this feature to inter. I dont have to much expectation from this feaure though."
   ]
  },
  {
   "cell_type": "markdown",
   "metadata": {},
   "source": [
    "Now that we have a good idea of the structure of data, lets dive deep and build our prediction model. Lets start by selecting feature __Pclass__  and build our model.\n",
    "We will test our initial hypothesis that passengers with Pclass 1 have a higher chance at suvival.  "
   ]
  },
  {
   "cell_type": "code",
   "execution_count": 4,
   "metadata": {},
   "outputs": [],
   "source": [
    "X = Train[['Pclass']]  # Feature vector\n",
    "Y = Train['Survived']  # Target variable"
   ]
  },
  {
   "cell_type": "code",
   "execution_count": 5,
   "metadata": {},
   "outputs": [
    {
     "data": {
      "text/plain": [
       "<seaborn.axisgrid.FacetGrid at 0x7f8764105350>"
      ]
     },
     "execution_count": 5,
     "metadata": {},
     "output_type": "execute_result"
    },
    {
     "data": {
      "image/png": "[encoded data removed]",
      "text/plain": [
       "<matplotlib.figure.Figure at 0x7f8764105790>"
      ]
     },
     "metadata": {},
     "output_type": "display_data"
    }
   ],
   "source": [
    "sns.factorplot(x='Pclass',y='Survived',data=Train,kind ='bar',ci=None,aspect=1.9)"
   ]
  },
  {
   "cell_type": "markdown",
   "metadata": {},
   "source": [
    "### Decision Tree Modeling\n",
    "It is evident that passenger with Pclass 1 actually had a better survival ratio. Lets use this feature and quickly build our model. We will be using Decision tree classifier with 25 fold crossvalidation strategy. This means that our training set is partitioned into 25 parts (24 parts as training set and 1 part as develpment set). We will report the score on the development set. Further we are tuning the hyperparameter using gridsearch for best results."
   ]
  },
  {
   "cell_type": "code",
   "execution_count": 6,
   "metadata": {},
   "outputs": [
    {
     "data": {
      "text/plain": [
       "0.67901234567901236"
      ]
     },
     "execution_count": 6,
     "metadata": {},
     "output_type": "execute_result"
    }
   ],
   "source": [
    "from sklearn.tree import DecisionTreeClassifier\n",
    "from sklearn.model_selection import GridSearchCV\n",
    "dtree = DecisionTreeClassifier()\n",
    "parameters = [{'criterion':['gini','entropy'],'max_depth':[1,10,20,50,100],'min_samples_split':[2,10,20,30,40,50]}]\n",
    "clf = GridSearchCV(dtree,parameters,cv=25)\n",
    "clf.fit(X,Y)\n",
    "clf.best_score_\n"
   ]
  },
  {
   "cell_type": "markdown",
   "metadata": {},
   "source": [
    "67.9% accuracy!! Not bad for a start. Lets analyse another feature __SibSp__.Let us look at its distribution. "
   ]
  },
  {
   "cell_type": "code",
   "execution_count": 7,
   "metadata": {},
   "outputs": [
    {
     "data": {
      "text/plain": [
       "<matplotlib.axes._subplots.AxesSubplot at 0x7f872bcc8ed0>"
      ]
     },
     "execution_count": 7,
     "metadata": {},
     "output_type": "execute_result"
    },
    {
     "data": {
      "image/png": "[encoded data removed]",
      "text/plain": [
       "<matplotlib.figure.Figure at 0x7f872feb9c10>"
      ]
     },
     "metadata": {},
     "output_type": "display_data"
    }
   ],
   "source": [
    "sns.distplot(Train['SibSp'],kde=False)\n"
   ]
  },
  {
   "cell_type": "code",
   "execution_count": 8,
   "metadata": {},
   "outputs": [
    {
     "data": {
      "text/plain": [
       "<seaborn.axisgrid.FacetGrid at 0x7f872989a290>"
      ]
     },
     "execution_count": 8,
     "metadata": {},
     "output_type": "execute_result"
    },
    {
     "data": {
      "image/png": "[encoded data removed]",
      "text/plain": [
       "<matplotlib.figure.Figure at 0x7f87298a5b90>"
      ]
     },
     "metadata": {},
     "output_type": "display_data"
    }
   ],
   "source": [
    "sns.factorplot(x='SibSp',y='Survived',data=Train,kind='bar',aspect=1.2,ci=None)\n"
   ]
  },
  {
   "cell_type": "markdown",
   "metadata": {},
   "source": [
    "From the plots it is clear that most passengers didn't have siblings or spouses although the survival rate for them is relatively low when compared to passengers having 1 or 2 SibSp.\n",
    "Lets analyse the correlation of __Pclass__ and __Sibsp__ with taget __Survived__\n"
   ]
  },
  {
   "cell_type": "code",
   "execution_count": 9,
   "metadata": {},
   "outputs": [
    {
     "data": {
      "text/plain": [
       "<matplotlib.axes._subplots.AxesSubplot at 0x7f872989a910>"
      ]
     },
     "execution_count": 9,
     "metadata": {},
     "output_type": "execute_result"
    },
    {
     "data": {
      "image/png": "[encoded data removed]",
      "text/plain": [
       "<matplotlib.figure.Figure at 0x7f87298672d0>"
      ]
     },
     "metadata": {},
     "output_type": "display_data"
    }
   ],
   "source": [
    "corr = Train[['Survived','Pclass','SibSp']].corr()\n",
    "sns.heatmap(corr,annot=True)"
   ]
  },
  {
   "cell_type": "markdown",
   "metadata": {},
   "source": [
    "___Pclass__ is significantly correlated with survival. There is a weak correlation of __Pclass__ and __SibSp__. We will keep both of these features for our model. Also __SibSp__ is weakly correlated with __Survived__. Lets add these features and build our model."
   ]
  },
  {
   "cell_type": "code",
   "execution_count": 10,
   "metadata": {},
   "outputs": [
    {
     "data": {
      "text/plain": [
       "0.68237934904601572"
      ]
     },
     "execution_count": 10,
     "metadata": {},
     "output_type": "execute_result"
    }
   ],
   "source": [
    "X = Train[['Pclass','SibSp']]  # Feature vector\n",
    "dtree = DecisionTreeClassifier()\n",
    "parameters = [{'criterion':['gini','entropy'],'max_depth':[1,10,20,50,100],'min_samples_split':[2,10,20,30,40,50]}]\n",
    "clf = GridSearchCV(dtree,parameters,cv=25)\n",
    "clf.fit(X,Y)\n",
    "clf.best_score_\n"
   ]
  },
  {
   "cell_type": "markdown",
   "metadata": {},
   "source": [
    "Boost of 0.03%. Small boost seems to be due to weaker correlation of __Survived__ and __SibSp__. Lets move onto __Parch__."
   ]
  },
  {
   "cell_type": "code",
   "execution_count": 11,
   "metadata": {},
   "outputs": [
    {
     "data": {
      "text/plain": [
       "<matplotlib.axes._subplots.AxesSubplot at 0x7f872968fed0>"
      ]
     },
     "execution_count": 11,
     "metadata": {},
     "output_type": "execute_result"
    },
    {
     "data": {
      "image/png": "[encoded data removed]",
      "text/plain": [
       "<matplotlib.figure.Figure at 0x7f87297a4910>"
      ]
     },
     "metadata": {},
     "output_type": "display_data"
    }
   ],
   "source": [
    "sns.distplot(Train['Parch'],kde=False)\n"
   ]
  },
  {
   "cell_type": "code",
   "execution_count": 12,
   "metadata": {},
   "outputs": [
    {
     "data": {
      "text/plain": [
       "<seaborn.axisgrid.FacetGrid at 0x7f87295270d0>"
      ]
     },
     "execution_count": 12,
     "metadata": {},
     "output_type": "execute_result"
    },
    {
     "data": {
      "image/png": "[encoded data removed]",
      "text/plain": [
       "<matplotlib.figure.Figure at 0x7f87295cd610>"
      ]
     },
     "metadata": {},
     "output_type": "display_data"
    }
   ],
   "source": [
    "sns.factorplot(x='Parch',y='Survived',data=Train,kind='bar',aspect=1.2,ci=None)\n"
   ]
  },
  {
   "cell_type": "markdown",
   "metadata": {},
   "source": [
    "From distribution of __Parch__, most passengers didn't travel with children or parents. But those who did travel with parents/children had a better chance of surviving than those who were alone. Lets look at the correlation matrix again."
   ]
  },
  {
   "cell_type": "code",
   "execution_count": 13,
   "metadata": {},
   "outputs": [
    {
     "data": {
      "text/plain": [
       "<matplotlib.axes._subplots.AxesSubplot at 0x7f87294e5c90>"
      ]
     },
     "execution_count": 13,
     "metadata": {},
     "output_type": "execute_result"
    },
    {
     "data": {
      "image/png": "[encoded data removed]",
      "text/plain": [
       "<matplotlib.figure.Figure at 0x7f872957e910>"
      ]
     },
     "metadata": {},
     "output_type": "display_data"
    }
   ],
   "source": [
    "corr = Train[['Survived','Pclass','SibSp','Parch']].corr()\n",
    "sns.heatmap(corr,annot=True)"
   ]
  },
  {
   "cell_type": "markdown",
   "metadata": {},
   "source": [
    "__Parch__ is weakly correlated with Survival. Lets see its impact on our model."
   ]
  },
  {
   "cell_type": "code",
   "execution_count": 14,
   "metadata": {},
   "outputs": [
    {
     "data": {
      "text/plain": [
       "0.71043771043771042"
      ]
     },
     "execution_count": 14,
     "metadata": {},
     "output_type": "execute_result"
    }
   ],
   "source": [
    "X = Train[['Pclass','SibSp','Parch']]  # Feature vector\n",
    "dtree = DecisionTreeClassifier()\n",
    "parameters = [{'criterion':['gini','entropy'],'max_depth':[1,10,20,50,100],'min_samples_split':[2,10,20,30,40,50]}]\n",
    "clf = GridSearchCV(dtree,parameters,cv=25)\n",
    "clf.fit(X,Y)\n",
    "clf.best_score_\n"
   ]
  },
  {
   "cell_type": "markdown",
   "metadata": {},
   "source": [
    "Oh increase of 0.3% !!. __Parch__  is definetely a key feature. In previous analysis we had seen that most passengers didn't have SibSp or Parch. Lets combine these two features and create a new feature called Family (reference) which is addition of these two features indicating whether passenger was travelling alone or with family.  "
   ]
  },
  {
   "cell_type": "code",
   "execution_count": 15,
   "metadata": {},
   "outputs": [],
   "source": [
    "Train['Family'] = Train['SibSp']+Train['Parch']+1"
   ]
  },
  {
   "cell_type": "code",
   "execution_count": 16,
   "metadata": {},
   "outputs": [
    {
     "data": {
      "text/plain": [
       "<matplotlib.axes._subplots.AxesSubplot at 0x7f872930c690>"
      ]
     },
     "execution_count": 16,
     "metadata": {},
     "output_type": "execute_result"
    },
    {
     "data": {
      "image/png": "[encoded data removed]",
      "text/plain": [
       "<matplotlib.figure.Figure at 0x7f872931fa50>"
      ]
     },
     "metadata": {},
     "output_type": "display_data"
    }
   ],
   "source": [
    "sns.distplot(Train['Family'],kde=False)"
   ]
  },
  {
   "cell_type": "code",
   "execution_count": 17,
   "metadata": {},
   "outputs": [
    {
     "data": {
      "text/plain": [
       "<seaborn.axisgrid.FacetGrid at 0x7f872968f890>"
      ]
     },
     "execution_count": 17,
     "metadata": {},
     "output_type": "execute_result"
    },
    {
     "data": {
      "image/png": "[encoded data removed]",
      "text/plain": [
       "<matplotlib.figure.Figure at 0x7f8729109090>"
      ]
     },
     "metadata": {},
     "output_type": "display_data"
    }
   ],
   "source": [
    "sns.factorplot(x='Family',y='Survived',data=Train,kind='bar',aspect=1.2,ci=None)\n"
   ]
  },
  {
   "cell_type": "markdown",
   "metadata": {},
   "source": [
    "Again from the plots it is evident that most passengers travelled alone but had a smaller survival ratio when compared to the passengers who travelled with family. Lets add these feature and see if the model gets improved."
   ]
  },
  {
   "cell_type": "code",
   "execution_count": 18,
   "metadata": {},
   "outputs": [
    {
     "data": {
      "text/plain": [
       "0.71156004489337821"
      ]
     },
     "execution_count": 18,
     "metadata": {},
     "output_type": "execute_result"
    }
   ],
   "source": [
    "X = Train[['Pclass','SibSp','Parch','Family']] \n",
    "dtree = DecisionTreeClassifier()\n",
    "parameters = [{'criterion':['gini','entropy'],'max_depth':[1,10,20,50,100],'min_samples_split':[2,10,20,30,40,50]}]\n",
    "clf = GridSearchCV(dtree,parameters,cv=25)\n",
    "clf.fit(X,Y)\n",
    "clf.best_score_\n"
   ]
  },
  {
   "cell_type": "markdown",
   "metadata": {},
   "source": [
    "Not a large increase huh. Lets move onto our next feature __Sex__. We expect women to have better survival chance then men. Its time to check our hypothesis."
   ]
  },
  {
   "cell_type": "code",
   "execution_count": 19,
   "metadata": {},
   "outputs": [
    {
     "data": {
      "text/plain": [
       "<seaborn.axisgrid.FacetGrid at 0x7f8729833590>"
      ]
     },
     "execution_count": 19,
     "metadata": {},
     "output_type": "execute_result"
    },
    {
     "data": {
      "image/png": "[encoded data removed]",
      "text/plain": [
       "<matplotlib.figure.Figure at 0x7f8729334850>"
      ]
     },
     "metadata": {},
     "output_type": "display_data"
    }
   ],
   "source": [
    "sns.factorplot(x='Sex',y='Survived',data=Train,kind='bar',aspect=1.2,ci=None)"
   ]
  },
  {
   "cell_type": "markdown",
   "metadata": {},
   "source": [
    "Our hypothesis seems to be correct. Lets map __Sex__ to a numerical value with 0 indicating male and 1 indicating female."
   ]
  },
  {
   "cell_type": "code",
   "execution_count": 20,
   "metadata": {},
   "outputs": [],
   "source": [
    "Train['Sex'] = Train['Sex'].map({'male':0,'female':1})"
   ]
  },
  {
   "cell_type": "markdown",
   "metadata": {},
   "source": [
    "Lets see the correlation matrix again."
   ]
  },
  {
   "cell_type": "code",
   "execution_count": 21,
   "metadata": {},
   "outputs": [
    {
     "data": {
      "text/plain": [
       "<matplotlib.axes._subplots.AxesSubplot at 0x7f87292ef4d0>"
      ]
     },
     "execution_count": 21,
     "metadata": {},
     "output_type": "execute_result"
    },
    {
     "data": {
      "image/png": "[encoded data removed]",
      "text/plain": [
       "<matplotlib.figure.Figure at 0x7f872903c790>"
      ]
     },
     "metadata": {},
     "output_type": "display_data"
    }
   ],
   "source": [
    "corr = Train[['Survived','Pclass','SibSp','Parch','Sex']].corr()\n",
    "sns.heatmap(corr,annot=True)"
   ]
  },
  {
   "cell_type": "markdown",
   "metadata": {},
   "source": [
    "Sex is the most correlated feature with Survival. Lets see its impact on our model."
   ]
  },
  {
   "cell_type": "code",
   "execution_count": 22,
   "metadata": {},
   "outputs": [
    {
     "data": {
      "text/plain": [
       "0.80246913580246915"
      ]
     },
     "execution_count": 22,
     "metadata": {},
     "output_type": "execute_result"
    }
   ],
   "source": [
    "X = Train[['Pclass','SibSp','Parch','Family','Sex']] \n",
    "dtree = DecisionTreeClassifier()\n",
    "parameters = [{'criterion':['gini','entropy'],'max_depth':[1,10,20,50,100],'min_samples_split':[2,10,20,30,40,50]}]\n",
    "clf = GridSearchCV(dtree,parameters,cv=25)\n",
    "clf.fit(X,Y)\n",
    "clf.best_score_\n"
   ]
  },
  {
   "cell_type": "markdown",
   "metadata": {},
   "source": [
    "We touched __80%__ accuracy !! Now thats call improvement. And we have many more features to include which implies lot of room for improvement. Lets keep going and add another feature __Fare__. But first lets have a look at __Ticket__ column."
   ]
  },
  {
   "cell_type": "code",
   "execution_count": 23,
   "metadata": {},
   "outputs": [
    {
     "data": {
      "text/plain": [
       "0"
      ]
     },
     "execution_count": 23,
     "metadata": {},
     "output_type": "execute_result"
    }
   ],
   "source": [
    "Train['Ticket'].isnull().sum()\n"
   ]
  },
  {
   "cell_type": "code",
   "execution_count": 24,
   "metadata": {},
   "outputs": [
    {
     "data": {
      "text/plain": [
       "681"
      ]
     },
     "execution_count": 24,
     "metadata": {},
     "output_type": "execute_result"
    }
   ],
   "source": [
    "Train['Ticket'].nunique()"
   ]
  },
  {
   "cell_type": "markdown",
   "metadata": {},
   "source": [
    "There are 681 unique values of tickets for 891 examples and there are no null values. That means tickets were shared among passengers. Now lets check Fare of the passengers with same ticket."
   ]
  },
  {
   "cell_type": "code",
   "execution_count": 25,
   "metadata": {},
   "outputs": [
    {
     "data": {
      "text/plain": [
       "Ticket             Fare    \n",
       "110152             86.5000     3\n",
       "110413             79.6500     3\n",
       "110465             52.0000     2\n",
       "110564             26.5500     1\n",
       "110813             75.2500     1\n",
       "111240             33.5000     1\n",
       "111320             38.5000     1\n",
       "111361             57.9792     2\n",
       "111369             30.0000     1\n",
       "111426             26.5500     1\n",
       "111427             26.5500     1\n",
       "111428             26.5500     1\n",
       "112050             0.0000      1\n",
       "112052             0.0000      1\n",
       "112053             30.0000     1\n",
       "112058             0.0000      1\n",
       "112059             0.0000      1\n",
       "112277             31.0000     1\n",
       "112379             39.6000     1\n",
       "113028             26.5500     1\n",
       "113043             28.5000     1\n",
       "113050             26.5500     1\n",
       "113051             27.7500     1\n",
       "113055             26.5500     1\n",
       "113056             26.0000     1\n",
       "113059             47.1000     1\n",
       "113501             30.0000     1\n",
       "113503             211.5000    1\n",
       "113505             55.0000     2\n",
       "113509             61.9792     1\n",
       "                              ..\n",
       "SOTON/OQ 392082    8.0500      1\n",
       "SOTON/OQ 392086    8.0500      1\n",
       "SOTON/OQ 392089    8.0500      1\n",
       "SOTON/OQ 392090    8.0500      1\n",
       "STON/O 2. 3101269  7.9250      1\n",
       "STON/O 2. 3101273  7.1250      1\n",
       "STON/O 2. 3101274  7.1250      1\n",
       "STON/O 2. 3101275  7.1250      1\n",
       "STON/O 2. 3101280  7.9250      1\n",
       "STON/O 2. 3101285  7.9250      1\n",
       "STON/O 2. 3101286  7.9250      1\n",
       "STON/O 2. 3101288  7.9250      1\n",
       "STON/O 2. 3101289  7.9250      1\n",
       "STON/O 2. 3101292  7.9250      1\n",
       "STON/O 2. 3101293  7.9250      1\n",
       "STON/O 2. 3101294  7.9250      1\n",
       "STON/O2. 3101271   7.9250      1\n",
       "STON/O2. 3101279   15.8500     2\n",
       "STON/O2. 3101282   7.9250      1\n",
       "STON/O2. 3101283   7.9250      1\n",
       "STON/O2. 3101290   7.9250      1\n",
       "SW/PP 751          10.5000     1\n",
       "W./C. 14258        10.5000     1\n",
       "W./C. 14263        10.5000     1\n",
       "W./C. 6607         23.4500     2\n",
       "W./C. 6608         34.3750     4\n",
       "W./C. 6609         7.5500      1\n",
       "W.E.P. 5734        61.1750     1\n",
       "W/C 14208          10.5000     1\n",
       "WE/P 5735          71.0000     2\n",
       "Name: Fare, Length: 682, dtype: int64"
      ]
     },
     "execution_count": 25,
     "metadata": {},
     "output_type": "execute_result"
    }
   ],
   "source": [
    "Train.groupby('Ticket')['Fare'].value_counts()"
   ]
  },
  {
   "cell_type": "markdown",
   "metadata": {},
   "source": [
    "If we look at ticket name 110152, the Fare is same for all passengers. This means that Fare actually indicates total Fare of that ticket for all passengers and not Fare per passenger. We will transform the column fare to indicate the true value per passenger rather than total sum."
   ]
  },
  {
   "cell_type": "code",
   "execution_count": 26,
   "metadata": {},
   "outputs": [
    {
     "data": {
      "text/plain": [
       "Ticket             Fare      \n",
       "110152             28.833333     3\n",
       "110413             26.550000     3\n",
       "110465             26.000000     2\n",
       "110564             26.550000     1\n",
       "110813             75.250000     1\n",
       "111240             33.500000     1\n",
       "111320             38.500000     1\n",
       "111361             28.989600     2\n",
       "111369             30.000000     1\n",
       "111426             26.550000     1\n",
       "111427             26.550000     1\n",
       "111428             26.550000     1\n",
       "112050             0.000000      1\n",
       "112052             0.000000      1\n",
       "112053             30.000000     1\n",
       "112058             0.000000      1\n",
       "112059             0.000000      1\n",
       "112277             31.000000     1\n",
       "112379             39.600000     1\n",
       "113028             26.550000     1\n",
       "113043             28.500000     1\n",
       "113050             26.550000     1\n",
       "113051             27.750000     1\n",
       "113055             26.550000     1\n",
       "113056             26.000000     1\n",
       "113059             47.100000     1\n",
       "113501             30.000000     1\n",
       "113503             211.500000    1\n",
       "113505             27.500000     2\n",
       "113509             61.979200     1\n",
       "                                ..\n",
       "SOTON/OQ 392082    8.050000      1\n",
       "SOTON/OQ 392086    8.050000      1\n",
       "SOTON/OQ 392089    8.050000      1\n",
       "SOTON/OQ 392090    8.050000      1\n",
       "STON/O 2. 3101269  7.925000      1\n",
       "STON/O 2. 3101273  7.125000      1\n",
       "STON/O 2. 3101274  7.125000      1\n",
       "STON/O 2. 3101275  7.125000      1\n",
       "STON/O 2. 3101280  7.925000      1\n",
       "STON/O 2. 3101285  7.925000      1\n",
       "STON/O 2. 3101286  7.925000      1\n",
       "STON/O 2. 3101288  7.925000      1\n",
       "STON/O 2. 3101289  7.925000      1\n",
       "STON/O 2. 3101292  7.925000      1\n",
       "STON/O 2. 3101293  7.925000      1\n",
       "STON/O 2. 3101294  7.925000      1\n",
       "STON/O2. 3101271   7.925000      1\n",
       "STON/O2. 3101279   7.925000      2\n",
       "STON/O2. 3101282   7.925000      1\n",
       "STON/O2. 3101283   7.925000      1\n",
       "STON/O2. 3101290   7.925000      1\n",
       "SW/PP 751          10.500000     1\n",
       "W./C. 14258        10.500000     1\n",
       "W./C. 14263        10.500000     1\n",
       "W./C. 6607         11.725000     2\n",
       "W./C. 6608         8.593750      4\n",
       "W./C. 6609         7.550000      1\n",
       "W.E.P. 5734        61.175000     1\n",
       "W/C 14208          10.500000     1\n",
       "WE/P 5735          35.500000     2\n",
       "Name: Fare, Length: 682, dtype: int64"
      ]
     },
     "execution_count": 26,
     "metadata": {},
     "output_type": "execute_result"
    }
   ],
   "source": [
    "Train['Fare']=Train.groupby('Ticket')['Fare'].apply(lambda x : x/len(x))\n",
    "Train.groupby('Ticket')['Fare'].value_counts()\n"
   ]
  },
  {
   "cell_type": "markdown",
   "metadata": {},
   "source": [
    "Now that we have the true Fare, lets see its distribution. "
   ]
  },
  {
   "cell_type": "code",
   "execution_count": 27,
   "metadata": {},
   "outputs": [
    {
     "data": {
      "text/plain": [
       "<seaborn.axisgrid.FacetGrid at 0x7f87290e18d0>"
      ]
     },
     "execution_count": 27,
     "metadata": {},
     "output_type": "execute_result"
    },
    {
     "data": {
      "image/png": "[encoded data removed]",
      "text/plain": [
       "<matplotlib.figure.Figure at 0x7f8729257190>"
      ]
     },
     "metadata": {},
     "output_type": "display_data"
    }
   ],
   "source": [
    "sns.factorplot(x='Pclass',y='Fare',hue='Survived',data=Train,kind='violin',aspect=1.6)"
   ]
  },
  {
   "cell_type": "markdown",
   "metadata": {},
   "source": [
    "As expected Pclass 1 has higher mean fare when compared to Pclass 2 and 3. Lets see its correlation with survival."
   ]
  },
  {
   "cell_type": "code",
   "execution_count": 28,
   "metadata": {},
   "outputs": [
    {
     "data": {
      "text/plain": [
       "<matplotlib.axes._subplots.AxesSubplot at 0x7f8728d09950>"
      ]
     },
     "execution_count": 28,
     "metadata": {},
     "output_type": "execute_result"
    },
    {
     "data": {
      "image/png": "[encoded data removed]",
      "text/plain": [
       "<matplotlib.figure.Figure at 0x7f8728de1350>"
      ]
     },
     "metadata": {},
     "output_type": "display_data"
    }
   ],
   "source": [
    "corr = Train[['Survived','Pclass','SibSp','Parch','Sex','Fare']].corr()\n",
    "sns.heatmap(corr,annot=True)"
   ]
  },
  {
   "cell_type": "markdown",
   "metadata": {},
   "source": [
    "__Fare__ does have some correlation with Survival of passengers. Lets add this to our model and check our new score "
   ]
  },
  {
   "cell_type": "code",
   "execution_count": 29,
   "metadata": {},
   "outputs": [
    {
     "data": {
      "text/plain": [
       "6"
      ]
     },
     "execution_count": 29,
     "metadata": {},
     "output_type": "execute_result"
    }
   ],
   "source": [
    "X = Train[['Pclass','SibSp','Parch','Family','Sex','Fare']] \n",
    "dtree = DecisionTreeClassifier()\n",
    "parameters = [{'criterion':['gini','entropy'],'max_depth':[1,10,20,50,100],'min_samples_split':[2,10,20,30,40,50]}]\n",
    "clf = GridSearchCV(dtree,parameters,cv=25)\n",
    "clf.fit(X,Y)\n",
    "clf.best_score_\n",
    "len(X.columns)"
   ]
  },
  {
   "cell_type": "markdown",
   "metadata": {},
   "source": [
    "Aha!! Increase of 0.29 % in accuracy. Lets continue with our analysis. Lets now look at __Embarked__. These feature has 2 missing entries. Lets look at these entries and map to numerical values."
   ]
  },
  {
   "cell_type": "code",
   "execution_count": 30,
   "metadata": {},
   "outputs": [
    {
     "data": {
      "text/html": [
       "<div>\n",
       "<style>\n",
       "    .dataframe thead tr:only-child th {\n",
       "        text-align: right;\n",
       "    }\n",
       "\n",
       "    .dataframe thead th {\n",
       "        text-align: left;\n",
       "    }\n",
       "\n",
       "    .dataframe tbody tr th {\n",
       "        vertical-align: top;\n",
       "    }\n",
       "</style>\n",
       "<table border=\"1\" class=\"dataframe\">\n",
       "  <thead>\n",
       "    <tr style=\"text-align: right;\">\n",
       "      <th></th>\n",
       "      <th>PassengerId</th>\n",
       "      <th>Survived</th>\n",
       "      <th>Pclass</th>\n",
       "      <th>Name</th>\n",
       "      <th>Sex</th>\n",
       "      <th>Age</th>\n",
       "      <th>SibSp</th>\n",
       "      <th>Parch</th>\n",
       "      <th>Ticket</th>\n",
       "      <th>Fare</th>\n",
       "      <th>Cabin</th>\n",
       "      <th>Embarked</th>\n",
       "      <th>Family</th>\n",
       "    </tr>\n",
       "  </thead>\n",
       "  <tbody>\n",
       "    <tr>\n",
       "      <th>61</th>\n",
       "      <td>62</td>\n",
       "      <td>1</td>\n",
       "      <td>1</td>\n",
       "      <td>Icard, Miss. Amelie</td>\n",
       "      <td>1</td>\n",
       "      <td>38.0</td>\n",
       "      <td>0</td>\n",
       "      <td>0</td>\n",
       "      <td>113572</td>\n",
       "      <td>40.0</td>\n",
       "      <td>B28</td>\n",
       "      <td>NaN</td>\n",
       "      <td>1</td>\n",
       "    </tr>\n",
       "    <tr>\n",
       "      <th>829</th>\n",
       "      <td>830</td>\n",
       "      <td>1</td>\n",
       "      <td>1</td>\n",
       "      <td>Stone, Mrs. George Nelson (Martha Evelyn)</td>\n",
       "      <td>1</td>\n",
       "      <td>62.0</td>\n",
       "      <td>0</td>\n",
       "      <td>0</td>\n",
       "      <td>113572</td>\n",
       "      <td>40.0</td>\n",
       "      <td>B28</td>\n",
       "      <td>NaN</td>\n",
       "      <td>1</td>\n",
       "    </tr>\n",
       "  </tbody>\n",
       "</table>\n",
       "</div>"
      ],
      "text/plain": [
       "     PassengerId  Survived  Pclass                                       Name  \\\n",
       "61            62         1       1                        Icard, Miss. Amelie   \n",
       "829          830         1       1  Stone, Mrs. George Nelson (Martha Evelyn)   \n",
       "\n",
       "     Sex   Age  SibSp  Parch  Ticket  Fare Cabin Embarked  Family  \n",
       "61     1  38.0      0      0  113572  40.0   B28      NaN       1  \n",
       "829    1  62.0      0      0  113572  40.0   B28      NaN       1  "
      ]
     },
     "execution_count": 30,
     "metadata": {},
     "output_type": "execute_result"
    }
   ],
   "source": [
    "Train[Train['Embarked'].isnull()]"
   ]
  },
  {
   "cell_type": "code",
   "execution_count": 31,
   "metadata": {},
   "outputs": [
    {
     "data": {
      "text/html": [
       "<div>\n",
       "<style>\n",
       "    .dataframe thead tr:only-child th {\n",
       "        text-align: right;\n",
       "    }\n",
       "\n",
       "    .dataframe thead th {\n",
       "        text-align: left;\n",
       "    }\n",
       "\n",
       "    .dataframe tbody tr th {\n",
       "        vertical-align: top;\n",
       "    }\n",
       "</style>\n",
       "<table border=\"1\" class=\"dataframe\">\n",
       "  <thead>\n",
       "    <tr style=\"text-align: right;\">\n",
       "      <th></th>\n",
       "      <th>PassengerId</th>\n",
       "      <th>Survived</th>\n",
       "      <th>Pclass</th>\n",
       "      <th>Name</th>\n",
       "      <th>Sex</th>\n",
       "      <th>Age</th>\n",
       "      <th>SibSp</th>\n",
       "      <th>Parch</th>\n",
       "      <th>Ticket</th>\n",
       "      <th>Fare</th>\n",
       "      <th>Cabin</th>\n",
       "      <th>Embarked</th>\n",
       "      <th>Family</th>\n",
       "    </tr>\n",
       "  </thead>\n",
       "  <tbody>\n",
       "    <tr>\n",
       "      <th>0</th>\n",
       "      <td>1</td>\n",
       "      <td>0</td>\n",
       "      <td>3</td>\n",
       "      <td>Braund, Mr. Owen Harris</td>\n",
       "      <td>0</td>\n",
       "      <td>22.0</td>\n",
       "      <td>1</td>\n",
       "      <td>0</td>\n",
       "      <td>A/5 21171</td>\n",
       "      <td>7.2500</td>\n",
       "      <td>NaN</td>\n",
       "      <td>2.0</td>\n",
       "      <td>2</td>\n",
       "    </tr>\n",
       "    <tr>\n",
       "      <th>1</th>\n",
       "      <td>2</td>\n",
       "      <td>1</td>\n",
       "      <td>1</td>\n",
       "      <td>Cumings, Mrs. John Bradley (Florence Briggs Th...</td>\n",
       "      <td>1</td>\n",
       "      <td>38.0</td>\n",
       "      <td>1</td>\n",
       "      <td>0</td>\n",
       "      <td>PC 17599</td>\n",
       "      <td>71.2833</td>\n",
       "      <td>C85</td>\n",
       "      <td>0.0</td>\n",
       "      <td>2</td>\n",
       "    </tr>\n",
       "    <tr>\n",
       "      <th>2</th>\n",
       "      <td>3</td>\n",
       "      <td>1</td>\n",
       "      <td>3</td>\n",
       "      <td>Heikkinen, Miss. Laina</td>\n",
       "      <td>1</td>\n",
       "      <td>26.0</td>\n",
       "      <td>0</td>\n",
       "      <td>0</td>\n",
       "      <td>STON/O2. 3101282</td>\n",
       "      <td>7.9250</td>\n",
       "      <td>NaN</td>\n",
       "      <td>2.0</td>\n",
       "      <td>1</td>\n",
       "    </tr>\n",
       "    <tr>\n",
       "      <th>3</th>\n",
       "      <td>4</td>\n",
       "      <td>1</td>\n",
       "      <td>1</td>\n",
       "      <td>Futrelle, Mrs. Jacques Heath (Lily May Peel)</td>\n",
       "      <td>1</td>\n",
       "      <td>35.0</td>\n",
       "      <td>1</td>\n",
       "      <td>0</td>\n",
       "      <td>113803</td>\n",
       "      <td>26.5500</td>\n",
       "      <td>C123</td>\n",
       "      <td>2.0</td>\n",
       "      <td>2</td>\n",
       "    </tr>\n",
       "    <tr>\n",
       "      <th>4</th>\n",
       "      <td>5</td>\n",
       "      <td>0</td>\n",
       "      <td>3</td>\n",
       "      <td>Allen, Mr. William Henry</td>\n",
       "      <td>0</td>\n",
       "      <td>35.0</td>\n",
       "      <td>0</td>\n",
       "      <td>0</td>\n",
       "      <td>373450</td>\n",
       "      <td>8.0500</td>\n",
       "      <td>NaN</td>\n",
       "      <td>2.0</td>\n",
       "      <td>1</td>\n",
       "    </tr>\n",
       "  </tbody>\n",
       "</table>\n",
       "</div>"
      ],
      "text/plain": [
       "   PassengerId  Survived  Pclass  \\\n",
       "0            1         0       3   \n",
       "1            2         1       1   \n",
       "2            3         1       3   \n",
       "3            4         1       1   \n",
       "4            5         0       3   \n",
       "\n",
       "                                                Name  Sex   Age  SibSp  Parch  \\\n",
       "0                            Braund, Mr. Owen Harris    0  22.0      1      0   \n",
       "1  Cumings, Mrs. John Bradley (Florence Briggs Th...    1  38.0      1      0   \n",
       "2                             Heikkinen, Miss. Laina    1  26.0      0      0   \n",
       "3       Futrelle, Mrs. Jacques Heath (Lily May Peel)    1  35.0      1      0   \n",
       "4                           Allen, Mr. William Henry    0  35.0      0      0   \n",
       "\n",
       "             Ticket     Fare Cabin  Embarked  Family  \n",
       "0         A/5 21171   7.2500   NaN       2.0       2  \n",
       "1          PC 17599  71.2833   C85       0.0       2  \n",
       "2  STON/O2. 3101282   7.9250   NaN       2.0       1  \n",
       "3            113803  26.5500  C123       2.0       2  \n",
       "4            373450   8.0500   NaN       2.0       1  "
      ]
     },
     "execution_count": 31,
     "metadata": {},
     "output_type": "execute_result"
    }
   ],
   "source": [
    "Train['Embarked'] = Train['Embarked'].map({'C':0,'Q':1,'S':2})\n",
    "Train.head()"
   ]
  },
  {
   "cell_type": "markdown",
   "metadata": {},
   "source": [
    "As we have limited data for training we wont drop any training examples. So we will have to impute the missing values. Now, one logical way to think is that place where passengers embarked influences their fare which in turn influences Pclass to some extent. So lets guess the embarked location from their Pclass."
   ]
  },
  {
   "cell_type": "code",
   "execution_count": 32,
   "metadata": {},
   "outputs": [],
   "source": [
    "Train['Embarked'] = Train.groupby(['Pclass']) ['Embarked'].apply(lambda x:x.fillna(x.median()))"
   ]
  },
  {
   "cell_type": "code",
   "execution_count": 33,
   "metadata": {},
   "outputs": [],
   "source": [
    "Train[['Ch','Q','S']]= pd.get_dummies(Train['Embarked'])\n"
   ]
  },
  {
   "cell_type": "code",
   "execution_count": 34,
   "metadata": {},
   "outputs": [
    {
     "data": {
      "text/plain": [
       "9"
      ]
     },
     "execution_count": 34,
     "metadata": {},
     "output_type": "execute_result"
    }
   ],
   "source": [
    "X = Train[['Pclass','SibSp','Parch','Family','Sex','Fare','Ch','Q','S']] \n",
    "dtree = DecisionTreeClassifier()\n",
    "parameters = [{'criterion':['gini','entropy'],'max_depth':[1,10,20,50,100],'min_samples_split':[2,10,20,30,40,50]}]\n",
    "clf = GridSearchCV(dtree,parameters,cv=25)\n",
    "clf.fit(X,Y)\n",
    "clf.best_score_\n",
    "len(X.columns)"
   ]
  },
  {
   "cell_type": "markdown",
   "metadata": {},
   "source": [
    "So we get a drop of 0.2 %. Lets continue adding features and we'll decide later about dropping features. Now lets analyse the feature __Name__. We will extract the title from the name of the passengers  "
   ]
  },
  {
   "cell_type": "code",
   "execution_count": 35,
   "metadata": {},
   "outputs": [
    {
     "name": "stderr",
     "output_type": "stream",
     "text": [
      "/usr/local/lib/python2.7/dist-packages/ipykernel_launcher.py:1: FutureWarning: currently extract(expand=None) means expand=False (return Index/Series/DataFrame) but in a future version of pandas this will be changed to expand=True (return DataFrame)\n",
      "  \"\"\"Entry point for launching an IPython kernel.\n"
     ]
    },
    {
     "data": {
      "text/plain": [
       "<matplotlib.axes._subplots.AxesSubplot at 0x7f8728b29950>"
      ]
     },
     "execution_count": 35,
     "metadata": {},
     "output_type": "execute_result"
    },
    {
     "data": {
      "image/png": "[encoded data removed]",
      "text/plain": [
       "<matplotlib.figure.Figure at 0x7f8728953910>"
      ]
     },
     "metadata": {},
     "output_type": "display_data"
    }
   ],
   "source": [
    "Train['Title'] = Train['Name'].str.extract('.+,\\s(\\w*).+')\n",
    "plt.figure(figsize=(15,4))\n",
    "sns.countplot(Train[\"Title\"])\n"
   ]
  },
  {
   "cell_type": "markdown",
   "metadata": {},
   "source": [
    "As we see from the distribution of Title [Mr,Mrs,Miss,Master] dominates. So we can club the other categories as one \n",
    "category called Rare. Lets do that ."
   ]
  },
  {
   "cell_type": "code",
   "execution_count": 36,
   "metadata": {},
   "outputs": [],
   "source": [
    "Train['Title'] = Train['Title'].replace(['Don','Rev','Dr','Major','Lady','Sir','Col','Capt','the','Jonkheer','Mme','Ms','Mlle'],'Rare')\n"
   ]
  },
  {
   "cell_type": "code",
   "execution_count": 37,
   "metadata": {},
   "outputs": [
    {
     "data": {
      "text/plain": [
       "<matplotlib.axes._subplots.AxesSubplot at 0x7f87289fb6d0>"
      ]
     },
     "execution_count": 37,
     "metadata": {},
     "output_type": "execute_result"
    },
    {
     "data": {
      "image/png": "[encoded data removed]",
      "text/plain": [
       "<matplotlib.figure.Figure at 0x7f8728b29d50>"
      ]
     },
     "metadata": {},
     "output_type": "display_data"
    }
   ],
   "source": [
    "plt.figure(figsize=(15,4))\n",
    "sns.countplot(Train[\"Title\"])"
   ]
  },
  {
   "cell_type": "code",
   "execution_count": 38,
   "metadata": {
    "scrolled": true
   },
   "outputs": [
    {
     "data": {
      "text/plain": [
       "<seaborn.axisgrid.FacetGrid at 0x7f8728a16e10>"
      ]
     },
     "execution_count": 38,
     "metadata": {},
     "output_type": "execute_result"
    },
    {
     "data": {
      "image/png": "[encoded data removed]",
      "text/plain": [
       "<matplotlib.figure.Figure at 0x7f8728a16850>"
      ]
     },
     "metadata": {},
     "output_type": "display_data"
    }
   ],
   "source": [
    "sns.factorplot(x='Title',y='Survived',data=Train,kind='bar',ci=None)"
   ]
  },
  {
   "cell_type": "markdown",
   "metadata": {},
   "source": [
    "So Title affects a lot. Passengers with title 'Mr' are not so lucky as indicated from the plots. Now we will generate features corresponding to each category."
   ]
  },
  {
   "cell_type": "code",
   "execution_count": 39,
   "metadata": {},
   "outputs": [],
   "source": [
    "Train = pd.concat([Train, pd.get_dummies(Train['Title'])], axis=1); "
   ]
  },
  {
   "cell_type": "code",
   "execution_count": 40,
   "metadata": {},
   "outputs": [
    {
     "data": {
      "text/plain": [
       "9"
      ]
     },
     "execution_count": 40,
     "metadata": {},
     "output_type": "execute_result"
    }
   ],
   "source": [
    "X = Train[['Pclass','SibSp','Parch','Family','Sex','Fare','Ch','Q','S']] \n",
    "dtree = DecisionTreeClassifier()\n",
    "parameters = [{'criterion':['gini','entropy'],'max_depth':[1,10,20,50,100],'min_samples_split':[2,10,20,30,40,50]}]\n",
    "clf = GridSearchCV(dtree,parameters,cv=25)\n",
    "clf.fit(X,Y)\n",
    "clf.best_score_\n",
    "len(X.columns)"
   ]
  },
  {
   "cell_type": "markdown",
   "metadata": {},
   "source": [
    "Okay we are back to 82%. And we still have few features to look at."
   ]
  },
  {
   "cell_type": "markdown",
   "metadata": {},
   "source": [
    "Lets look at the feature __Age__. It has lots of missing values. We will impute these missing values on the basis of their titles. Precisely, we will group them by Title and then Nan are replaced by their group mean. "
   ]
  },
  {
   "cell_type": "code",
   "execution_count": 41,
   "metadata": {},
   "outputs": [],
   "source": [
    "Train[\"Age\"]  = Train.groupby(\"Title\")['Age'].transform(lambda x: x.fillna(x.mean()))\n"
   ]
  },
  {
   "cell_type": "markdown",
   "metadata": {},
   "source": [
    "So now that we have filled the missing values, lets have a look at the distribution of __age__."
   ]
  },
  {
   "cell_type": "code",
   "execution_count": 42,
   "metadata": {},
   "outputs": [
    {
     "data": {
      "text/plain": [
       "<seaborn.axisgrid.FacetGrid at 0x7f87292e3a10>"
      ]
     },
     "execution_count": 42,
     "metadata": {},
     "output_type": "execute_result"
    },
    {
     "data": {
      "image/png": "[encoded data removed]",
      "text/plain": [
       "<matplotlib.figure.Figure at 0x7f872887a7d0>"
      ]
     },
     "metadata": {},
     "output_type": "display_data"
    }
   ],
   "source": [
    "sns.factorplot(x='Survived',y='Age',data=Train,kind='violin',aspect=1.6)"
   ]
  },
  {
   "cell_type": "markdown",
   "metadata": {},
   "source": [
    "Age does not seem to be a deciding factor looking at the above plots. Lets add __Age__ to our features and check."
   ]
  },
  {
   "cell_type": "code",
   "execution_count": 43,
   "metadata": {},
   "outputs": [
    {
     "data": {
      "text/plain": [
       "15"
      ]
     },
     "execution_count": 43,
     "metadata": {},
     "output_type": "execute_result"
    }
   ],
   "source": [
    "X = Train[['Pclass','SibSp','Parch','Family','Sex','Fare','Ch','Q','S','Mr','Mrs','Miss','Rare','Master','Age']] \n",
    "dtree = DecisionTreeClassifier()\n",
    "parameters = [{'criterion':['gini','entropy'],'max_depth':[1,10,20,50,100],'min_samples_split':[2,10,20,30,40,50]}]\n",
    "clf = GridSearchCV(dtree,parameters,cv=25)\n",
    "clf.fit(X,Y)\n",
    "clf.best_score_\n",
    "len(X.columns)"
   ]
  },
  {
   "cell_type": "markdown",
   "metadata": {},
   "source": [
    "Adding age seems to decrease the performance. Lets divide Age in 2 categories adult and children and then see its impact"
   ]
  },
  {
   "cell_type": "code",
   "execution_count": 44,
   "metadata": {},
   "outputs": [],
   "source": [
    "Train['age'] = Train['Age'].apply(lambda Age: 'Adult' if Age > 15 else 'Child') \n",
    "Train = pd.concat([Train, pd.get_dummies(Train['age'])], axis=1); Train.drop('age',1);"
   ]
  },
  {
   "cell_type": "markdown",
   "metadata": {},
   "source": [
    "Now lets add them to our feature set and build our model again."
   ]
  },
  {
   "cell_type": "code",
   "execution_count": 45,
   "metadata": {},
   "outputs": [
    {
     "data": {
      "text/plain": [
       "16"
      ]
     },
     "execution_count": 45,
     "metadata": {},
     "output_type": "execute_result"
    }
   ],
   "source": [
    "X = Train[['Pclass','SibSp','Parch','Family','Sex','Fare','Ch','Q','S','Mr','Mrs','Miss','Rare','Master','Adult','Child']] \n",
    "dtree = DecisionTreeClassifier()\n",
    "parameters = [{'criterion':['gini','entropy'],'max_depth':[1,10,20,50,100],'min_samples_split':[2,10,20,30,40,50]}]\n",
    "clf = GridSearchCV(dtree,parameters,cv=25)\n",
    "clf.fit(X,Y)\n",
    "clf.best_score_\n",
    "len(X.columns)"
   ]
  },
  {
   "cell_type": "markdown",
   "metadata": {},
   "source": [
    "yay !! We have recovered our accuracy of 82% just by dividing Age into 2 bins. "
   ]
  },
  {
   "cell_type": "markdown",
   "metadata": {},
   "source": [
    "Now we have two more features. __Cabin__ and __Ticket__. Cabin has lots of missing values and some entries have multiple cabins."
   ]
  },
  {
   "cell_type": "code",
   "execution_count": 46,
   "metadata": {},
   "outputs": [
    {
     "data": {
      "text/plain": [
       "NaN                687\n",
       "G6                   4\n",
       "C23 C25 C27          4\n",
       "B96 B98              4\n",
       "F2                   3\n",
       "C22 C26              3\n",
       "E101                 3\n",
       "F33                  3\n",
       "D                    3\n",
       "C126                 2\n",
       "E44                  2\n",
       "B5                   2\n",
       "C123                 2\n",
       "F G73                2\n",
       "C52                  2\n",
       "C124                 2\n",
       "C78                  2\n",
       "D36                  2\n",
       "D35                  2\n",
       "D33                  2\n",
       "C93                  2\n",
       "B77                  2\n",
       "B22                  2\n",
       "E67                  2\n",
       "B28                  2\n",
       "B57 B59 B63 B66      2\n",
       "E33                  2\n",
       "C92                  2\n",
       "B18                  2\n",
       "C2                   2\n",
       "                  ... \n",
       "A19                  1\n",
       "F G63                1\n",
       "E12                  1\n",
       "C47                  1\n",
       "E46                  1\n",
       "A6                   1\n",
       "B4                   1\n",
       "B71                  1\n",
       "A20                  1\n",
       "D46                  1\n",
       "A23                  1\n",
       "D47                  1\n",
       "A26                  1\n",
       "C32                  1\n",
       "D48                  1\n",
       "D49                  1\n",
       "B73                  1\n",
       "B86                  1\n",
       "D28                  1\n",
       "C128                 1\n",
       "D45                  1\n",
       "D6                   1\n",
       "D56                  1\n",
       "C49                  1\n",
       "C46                  1\n",
       "B80                  1\n",
       "C101                 1\n",
       "A10                  1\n",
       "C54                  1\n",
       "C103                 1\n",
       "Name: Cabin, Length: 148, dtype: int64"
      ]
     },
     "execution_count": 46,
     "metadata": {},
     "output_type": "execute_result"
    }
   ],
   "source": [
    "Train['Cabin'].value_counts(dropna=0)"
   ]
  },
  {
   "cell_type": "markdown",
   "metadata": {},
   "source": [
    "This means the cabins might have been shared by passengers. Lets look at the tickets and cabins simultaneously."
   ]
  },
  {
   "cell_type": "code",
   "execution_count": 47,
   "metadata": {},
   "outputs": [
    {
     "data": {
      "text/plain": [
       "Ticket             Cabin\n",
       "110152             B77      2\n",
       "                   B79      1\n",
       "110413             E67      2\n",
       "                   E68      1\n",
       "110465             A14      1\n",
       "                   C110     1\n",
       "110564             C52      1\n",
       "110813             D37      1\n",
       "111240             B19      1\n",
       "111320             E63      1\n",
       "111361             B18      2\n",
       "111369             C148     1\n",
       "111426             NaN      1\n",
       "111427             NaN      1\n",
       "111428             NaN      1\n",
       "112050             A36      1\n",
       "112052             NaN      1\n",
       "112053             B42      1\n",
       "112058             B102     1\n",
       "112059             B94      1\n",
       "112277             A31      1\n",
       "112379             NaN      1\n",
       "113028             C124     1\n",
       "113043             C124     1\n",
       "113050             B38      1\n",
       "113051             C111     1\n",
       "113055             E17      1\n",
       "113056             A19      1\n",
       "113059             NaN      1\n",
       "113501             D6       1\n",
       "                           ..\n",
       "SOTON/OQ 392082    NaN      1\n",
       "SOTON/OQ 392086    NaN      1\n",
       "SOTON/OQ 392089    NaN      1\n",
       "SOTON/OQ 392090    NaN      1\n",
       "STON/O 2. 3101269  NaN      1\n",
       "STON/O 2. 3101273  NaN      1\n",
       "STON/O 2. 3101274  NaN      1\n",
       "STON/O 2. 3101275  NaN      1\n",
       "STON/O 2. 3101280  NaN      1\n",
       "STON/O 2. 3101285  NaN      1\n",
       "STON/O 2. 3101286  NaN      1\n",
       "STON/O 2. 3101288  NaN      1\n",
       "STON/O 2. 3101289  NaN      1\n",
       "STON/O 2. 3101292  NaN      1\n",
       "STON/O 2. 3101293  NaN      1\n",
       "STON/O 2. 3101294  NaN      1\n",
       "STON/O2. 3101271   NaN      1\n",
       "STON/O2. 3101279   NaN      2\n",
       "STON/O2. 3101282   NaN      1\n",
       "STON/O2. 3101283   NaN      1\n",
       "STON/O2. 3101290   NaN      1\n",
       "SW/PP 751          NaN      1\n",
       "W./C. 14258        NaN      1\n",
       "W./C. 14263        NaN      1\n",
       "W./C. 6607         NaN      2\n",
       "W./C. 6608         NaN      4\n",
       "W./C. 6609         NaN      1\n",
       "W.E.P. 5734        E31      1\n",
       "W/C 14208          NaN      1\n",
       "WE/P 5735          B22      2\n",
       "Name: Cabin, Length: 710, dtype: int64"
      ]
     },
     "execution_count": 47,
     "metadata": {},
     "output_type": "execute_result"
    }
   ],
   "source": [
    "Train.groupby('Ticket')['Cabin'].value_counts(dropna=0)"
   ]
  },
  {
   "cell_type": "markdown",
   "metadata": {},
   "source": [
    "lets pull out rows corresponding to ticket=110152"
   ]
  },
  {
   "cell_type": "code",
   "execution_count": 48,
   "metadata": {
    "scrolled": true
   },
   "outputs": [
    {
     "data": {
      "text/html": [
       "<div>\n",
       "<style>\n",
       "    .dataframe thead tr:only-child th {\n",
       "        text-align: right;\n",
       "    }\n",
       "\n",
       "    .dataframe thead th {\n",
       "        text-align: left;\n",
       "    }\n",
       "\n",
       "    .dataframe tbody tr th {\n",
       "        vertical-align: top;\n",
       "    }\n",
       "</style>\n",
       "<table border=\"1\" class=\"dataframe\">\n",
       "  <thead>\n",
       "    <tr style=\"text-align: right;\">\n",
       "      <th></th>\n",
       "      <th>Cabin</th>\n",
       "      <th>Fare</th>\n",
       "      <th>Name</th>\n",
       "      <th>Age</th>\n",
       "    </tr>\n",
       "  </thead>\n",
       "  <tbody>\n",
       "    <tr>\n",
       "      <th>257</th>\n",
       "      <td>B77</td>\n",
       "      <td>28.833333</td>\n",
       "      <td>Cherry, Miss. Gladys</td>\n",
       "      <td>30.0</td>\n",
       "    </tr>\n",
       "    <tr>\n",
       "      <th>504</th>\n",
       "      <td>B79</td>\n",
       "      <td>28.833333</td>\n",
       "      <td>Maioni, Miss. Roberta</td>\n",
       "      <td>16.0</td>\n",
       "    </tr>\n",
       "    <tr>\n",
       "      <th>759</th>\n",
       "      <td>B77</td>\n",
       "      <td>28.833333</td>\n",
       "      <td>Rothes, the Countess. of (Lucy Noel Martha Dye...</td>\n",
       "      <td>33.0</td>\n",
       "    </tr>\n",
       "  </tbody>\n",
       "</table>\n",
       "</div>"
      ],
      "text/plain": [
       "    Cabin       Fare                                               Name   Age\n",
       "257   B77  28.833333                               Cherry, Miss. Gladys  30.0\n",
       "504   B79  28.833333                              Maioni, Miss. Roberta  16.0\n",
       "759   B77  28.833333  Rothes, the Countess. of (Lucy Noel Martha Dye...  33.0"
      ]
     },
     "execution_count": 48,
     "metadata": {},
     "output_type": "execute_result"
    }
   ],
   "source": [
    "Train[Train['Ticket']=='110152'][['Cabin','Fare','Name','Age']]"
   ]
  },
  {
   "cell_type": "markdown",
   "metadata": {},
   "source": [
    "What we can do is to extract first cabin letter and then fill Nan values with same cabin grouped by same ticket."
   ]
  },
  {
   "cell_type": "code",
   "execution_count": 49,
   "metadata": {},
   "outputs": [
    {
     "name": "stderr",
     "output_type": "stream",
     "text": [
      "/usr/local/lib/python2.7/dist-packages/ipykernel_launcher.py:1: FutureWarning: currently extract(expand=None) means expand=False (return Index/Series/DataFrame) but in a future version of pandas this will be changed to expand=True (return DataFrame)\n",
      "  \"\"\"Entry point for launching an IPython kernel.\n"
     ]
    },
    {
     "data": {
      "text/plain": [
       "Ticket             Cab  \n",
       "110152             B        3\n",
       "110413             E        3\n",
       "110465             A        1\n",
       "                   C        1\n",
       "110564             C        1\n",
       "110813             D        1\n",
       "111240             B        1\n",
       "111320             E        1\n",
       "111361             B        2\n",
       "111369             C        1\n",
       "111426             Other    1\n",
       "111427             Other    1\n",
       "111428             Other    1\n",
       "112050             A        1\n",
       "112052             Other    1\n",
       "112053             B        1\n",
       "112058             B        1\n",
       "112059             B        1\n",
       "112277             A        1\n",
       "112379             Other    1\n",
       "113028             C        1\n",
       "113043             C        1\n",
       "113050             B        1\n",
       "113051             C        1\n",
       "113055             E        1\n",
       "113056             A        1\n",
       "113059             Other    1\n",
       "113501             D        1\n",
       "113503             C        1\n",
       "113505             E        2\n",
       "                           ..\n",
       "SOTON/OQ 392082    Other    1\n",
       "SOTON/OQ 392086    Other    1\n",
       "SOTON/OQ 392089    Other    1\n",
       "SOTON/OQ 392090    Other    1\n",
       "STON/O 2. 3101269  Other    1\n",
       "STON/O 2. 3101273  Other    1\n",
       "STON/O 2. 3101274  Other    1\n",
       "STON/O 2. 3101275  Other    1\n",
       "STON/O 2. 3101280  Other    1\n",
       "STON/O 2. 3101285  Other    1\n",
       "STON/O 2. 3101286  Other    1\n",
       "STON/O 2. 3101288  Other    1\n",
       "STON/O 2. 3101289  Other    1\n",
       "STON/O 2. 3101292  Other    1\n",
       "STON/O 2. 3101293  Other    1\n",
       "STON/O 2. 3101294  Other    1\n",
       "STON/O2. 3101271   Other    1\n",
       "STON/O2. 3101279   Other    2\n",
       "STON/O2. 3101282   Other    1\n",
       "STON/O2. 3101283   Other    1\n",
       "STON/O2. 3101290   Other    1\n",
       "SW/PP 751          Other    1\n",
       "W./C. 14258        Other    1\n",
       "W./C. 14263        Other    1\n",
       "W./C. 6607         Other    2\n",
       "W./C. 6608         Other    4\n",
       "W./C. 6609         Other    1\n",
       "W.E.P. 5734        E        1\n",
       "W/C 14208          Other    1\n",
       "WE/P 5735          B        2\n",
       "Name: Cab, Length: 683, dtype: int64"
      ]
     },
     "execution_count": 49,
     "metadata": {},
     "output_type": "execute_result"
    }
   ],
   "source": [
    "Train['Cab'] = Train['Cabin'].str.extract('(\\w)')\n",
    "Train['Cab']=Train.groupby('Ticket')['Cab'].apply(lambda x:x.fillna(method='bfill').fillna(method='ffill').fillna(method='bfill'))\n",
    "Train['Cab'] = Train['Cab'].replace(np.nan,'Other')\n",
    "Train.groupby('Ticket')['Cab'].value_counts(dropna=0)"
   ]
  },
  {
   "cell_type": "code",
   "execution_count": 50,
   "metadata": {},
   "outputs": [],
   "source": [
    "Train = pd.concat([Train, pd.get_dummies(Train['Cab'])], axis=1)\n"
   ]
  },
  {
   "cell_type": "code",
   "execution_count": 51,
   "metadata": {},
   "outputs": [
    {
     "name": "stdout",
     "output_type": "stream",
     "text": [
      "<class 'pandas.core.frame.DataFrame'>\n",
      "RangeIndex: 891 entries, 0 to 890\n",
      "Data columns (total 25 columns):\n",
      "Pclass    891 non-null int64\n",
      "SibSp     891 non-null int64\n",
      "Parch     891 non-null int64\n",
      "Family    891 non-null int64\n",
      "Sex       891 non-null int64\n",
      "Fare      891 non-null float64\n",
      "Ch        891 non-null uint8\n",
      "Q         891 non-null uint8\n",
      "S         891 non-null uint8\n",
      "Mr        891 non-null uint8\n",
      "Mrs       891 non-null uint8\n",
      "Miss      891 non-null uint8\n",
      "Rare      891 non-null uint8\n",
      "Master    891 non-null uint8\n",
      "Adult     891 non-null uint8\n",
      "Child     891 non-null uint8\n",
      "A         891 non-null uint8\n",
      "B         891 non-null uint8\n",
      "C         891 non-null uint8\n",
      "D         891 non-null uint8\n",
      "E         891 non-null uint8\n",
      "F         891 non-null uint8\n",
      "G         891 non-null uint8\n",
      "T         891 non-null uint8\n",
      "Other     891 non-null uint8\n",
      "dtypes: float64(1), int64(5), uint8(19)\n",
      "memory usage: 58.4 KB\n"
     ]
    }
   ],
   "source": [
    "X = Train[['Pclass','SibSp','Parch','Family','Sex','Fare','Ch','Q','S','Mr','Mrs','Miss','Rare','Master','Adult','Child','A','B','C','D','E','F','G','T','Other']] \n",
    "dtree = DecisionTreeClassifier()\n",
    "parameters = [{'criterion':['gini','entropy'],'max_depth':[1,10,20,50,100],'min_samples_split':[2,10,20,30,40,50]}]\n",
    "clf = GridSearchCV(dtree,parameters,cv=25)\n",
    "clf.fit(X,Y)\n",
    "clf.best_score_\n",
    "X.info()"
   ]
  },
  {
   "cell_type": "markdown",
   "metadata": {},
   "source": [
    "We are still at 82 %. Now lets add test data and see if we have to impute values."
   ]
  },
  {
   "cell_type": "code",
   "execution_count": 52,
   "metadata": {},
   "outputs": [
    {
     "data": {
      "text/html": [
       "<div>\n",
       "<style>\n",
       "    .dataframe thead tr:only-child th {\n",
       "        text-align: right;\n",
       "    }\n",
       "\n",
       "    .dataframe thead th {\n",
       "        text-align: left;\n",
       "    }\n",
       "\n",
       "    .dataframe tbody tr th {\n",
       "        vertical-align: top;\n",
       "    }\n",
       "</style>\n",
       "<table border=\"1\" class=\"dataframe\">\n",
       "  <thead>\n",
       "    <tr style=\"text-align: right;\">\n",
       "      <th></th>\n",
       "      <th>PassengerId</th>\n",
       "      <th>Pclass</th>\n",
       "      <th>Name</th>\n",
       "      <th>Sex</th>\n",
       "      <th>Age</th>\n",
       "      <th>SibSp</th>\n",
       "      <th>Parch</th>\n",
       "      <th>Ticket</th>\n",
       "      <th>Fare</th>\n",
       "      <th>Cabin</th>\n",
       "      <th>Embarked</th>\n",
       "    </tr>\n",
       "  </thead>\n",
       "  <tbody>\n",
       "    <tr>\n",
       "      <th>0</th>\n",
       "      <td>892</td>\n",
       "      <td>3</td>\n",
       "      <td>Kelly, Mr. James</td>\n",
       "      <td>male</td>\n",
       "      <td>34.5</td>\n",
       "      <td>0</td>\n",
       "      <td>0</td>\n",
       "      <td>330911</td>\n",
       "      <td>7.8292</td>\n",
       "      <td>NaN</td>\n",
       "      <td>Q</td>\n",
       "    </tr>\n",
       "    <tr>\n",
       "      <th>1</th>\n",
       "      <td>893</td>\n",
       "      <td>3</td>\n",
       "      <td>Wilkes, Mrs. James (Ellen Needs)</td>\n",
       "      <td>female</td>\n",
       "      <td>47.0</td>\n",
       "      <td>1</td>\n",
       "      <td>0</td>\n",
       "      <td>363272</td>\n",
       "      <td>7.0000</td>\n",
       "      <td>NaN</td>\n",
       "      <td>S</td>\n",
       "    </tr>\n",
       "    <tr>\n",
       "      <th>2</th>\n",
       "      <td>894</td>\n",
       "      <td>2</td>\n",
       "      <td>Myles, Mr. Thomas Francis</td>\n",
       "      <td>male</td>\n",
       "      <td>62.0</td>\n",
       "      <td>0</td>\n",
       "      <td>0</td>\n",
       "      <td>240276</td>\n",
       "      <td>9.6875</td>\n",
       "      <td>NaN</td>\n",
       "      <td>Q</td>\n",
       "    </tr>\n",
       "    <tr>\n",
       "      <th>3</th>\n",
       "      <td>895</td>\n",
       "      <td>3</td>\n",
       "      <td>Wirz, Mr. Albert</td>\n",
       "      <td>male</td>\n",
       "      <td>27.0</td>\n",
       "      <td>0</td>\n",
       "      <td>0</td>\n",
       "      <td>315154</td>\n",
       "      <td>8.6625</td>\n",
       "      <td>NaN</td>\n",
       "      <td>S</td>\n",
       "    </tr>\n",
       "    <tr>\n",
       "      <th>4</th>\n",
       "      <td>896</td>\n",
       "      <td>3</td>\n",
       "      <td>Hirvonen, Mrs. Alexander (Helga E Lindqvist)</td>\n",
       "      <td>female</td>\n",
       "      <td>22.0</td>\n",
       "      <td>1</td>\n",
       "      <td>1</td>\n",
       "      <td>3101298</td>\n",
       "      <td>12.2875</td>\n",
       "      <td>NaN</td>\n",
       "      <td>S</td>\n",
       "    </tr>\n",
       "  </tbody>\n",
       "</table>\n",
       "</div>"
      ],
      "text/plain": [
       "   PassengerId  Pclass                                          Name     Sex  \\\n",
       "0          892       3                              Kelly, Mr. James    male   \n",
       "1          893       3              Wilkes, Mrs. James (Ellen Needs)  female   \n",
       "2          894       2                     Myles, Mr. Thomas Francis    male   \n",
       "3          895       3                              Wirz, Mr. Albert    male   \n",
       "4          896       3  Hirvonen, Mrs. Alexander (Helga E Lindqvist)  female   \n",
       "\n",
       "    Age  SibSp  Parch   Ticket     Fare Cabin Embarked  \n",
       "0  34.5      0      0   330911   7.8292   NaN        Q  \n",
       "1  47.0      1      0   363272   7.0000   NaN        S  \n",
       "2  62.0      0      0   240276   9.6875   NaN        Q  \n",
       "3  27.0      0      0   315154   8.6625   NaN        S  \n",
       "4  22.0      1      1  3101298  12.2875   NaN        S  "
      ]
     },
     "execution_count": 52,
     "metadata": {},
     "output_type": "execute_result"
    }
   ],
   "source": [
    "Test = pd.read_csv('test.csv')\n",
    "pid =Test['PassengerId']\n",
    "Test.head()\n"
   ]
  },
  {
   "cell_type": "markdown",
   "metadata": {},
   "source": [
    "We have missing values for age,fare and cabin. We will guess Age again by first filling with group mean value based on Title (Training data) and then categorise if the passenger is adult or child.\n",
    "Embarked will be guessed based on Pclass and Cabin will be filled with same value as ticket(if available or else keep it as Nan) "
   ]
  },
  {
   "cell_type": "code",
   "execution_count": 53,
   "metadata": {},
   "outputs": [
    {
     "name": "stderr",
     "output_type": "stream",
     "text": [
      "/usr/local/lib/python2.7/dist-packages/ipykernel_launcher.py:2: FutureWarning: currently extract(expand=None) means expand=False (return Index/Series/DataFrame) but in a future version of pandas this will be changed to expand=True (return DataFrame)\n",
      "  \n"
     ]
    },
    {
     "data": {
      "text/html": [
       "<div>\n",
       "<style>\n",
       "    .dataframe thead tr:only-child th {\n",
       "        text-align: right;\n",
       "    }\n",
       "\n",
       "    .dataframe thead th {\n",
       "        text-align: left;\n",
       "    }\n",
       "\n",
       "    .dataframe tbody tr th {\n",
       "        vertical-align: top;\n",
       "    }\n",
       "</style>\n",
       "<table border=\"1\" class=\"dataframe\">\n",
       "  <thead>\n",
       "    <tr style=\"text-align: right;\">\n",
       "      <th></th>\n",
       "      <th>PassengerId</th>\n",
       "      <th>Pclass</th>\n",
       "      <th>Name</th>\n",
       "      <th>Sex</th>\n",
       "      <th>Age</th>\n",
       "      <th>SibSp</th>\n",
       "      <th>Parch</th>\n",
       "      <th>Ticket</th>\n",
       "      <th>Fare</th>\n",
       "      <th>Cabin</th>\n",
       "      <th>Embarked</th>\n",
       "      <th>Title</th>\n",
       "    </tr>\n",
       "  </thead>\n",
       "  <tbody>\n",
       "    <tr>\n",
       "      <th>0</th>\n",
       "      <td>892</td>\n",
       "      <td>3</td>\n",
       "      <td>Kelly, Mr. James</td>\n",
       "      <td>0</td>\n",
       "      <td>34.5</td>\n",
       "      <td>0</td>\n",
       "      <td>0</td>\n",
       "      <td>330911</td>\n",
       "      <td>7.8292</td>\n",
       "      <td>NaN</td>\n",
       "      <td>Q</td>\n",
       "      <td>Mr</td>\n",
       "    </tr>\n",
       "    <tr>\n",
       "      <th>1</th>\n",
       "      <td>893</td>\n",
       "      <td>3</td>\n",
       "      <td>Wilkes, Mrs. James (Ellen Needs)</td>\n",
       "      <td>1</td>\n",
       "      <td>47.0</td>\n",
       "      <td>1</td>\n",
       "      <td>0</td>\n",
       "      <td>363272</td>\n",
       "      <td>7.0000</td>\n",
       "      <td>NaN</td>\n",
       "      <td>S</td>\n",
       "      <td>Mrs</td>\n",
       "    </tr>\n",
       "    <tr>\n",
       "      <th>2</th>\n",
       "      <td>894</td>\n",
       "      <td>2</td>\n",
       "      <td>Myles, Mr. Thomas Francis</td>\n",
       "      <td>0</td>\n",
       "      <td>62.0</td>\n",
       "      <td>0</td>\n",
       "      <td>0</td>\n",
       "      <td>240276</td>\n",
       "      <td>9.6875</td>\n",
       "      <td>NaN</td>\n",
       "      <td>Q</td>\n",
       "      <td>Mr</td>\n",
       "    </tr>\n",
       "    <tr>\n",
       "      <th>3</th>\n",
       "      <td>895</td>\n",
       "      <td>3</td>\n",
       "      <td>Wirz, Mr. Albert</td>\n",
       "      <td>0</td>\n",
       "      <td>27.0</td>\n",
       "      <td>0</td>\n",
       "      <td>0</td>\n",
       "      <td>315154</td>\n",
       "      <td>8.6625</td>\n",
       "      <td>NaN</td>\n",
       "      <td>S</td>\n",
       "      <td>Mr</td>\n",
       "    </tr>\n",
       "    <tr>\n",
       "      <th>4</th>\n",
       "      <td>896</td>\n",
       "      <td>3</td>\n",
       "      <td>Hirvonen, Mrs. Alexander (Helga E Lindqvist)</td>\n",
       "      <td>1</td>\n",
       "      <td>22.0</td>\n",
       "      <td>1</td>\n",
       "      <td>1</td>\n",
       "      <td>3101298</td>\n",
       "      <td>12.2875</td>\n",
       "      <td>NaN</td>\n",
       "      <td>S</td>\n",
       "      <td>Mrs</td>\n",
       "    </tr>\n",
       "  </tbody>\n",
       "</table>\n",
       "</div>"
      ],
      "text/plain": [
       "   PassengerId  Pclass                                          Name  Sex  \\\n",
       "0          892       3                              Kelly, Mr. James    0   \n",
       "1          893       3              Wilkes, Mrs. James (Ellen Needs)    1   \n",
       "2          894       2                     Myles, Mr. Thomas Francis    0   \n",
       "3          895       3                              Wirz, Mr. Albert    0   \n",
       "4          896       3  Hirvonen, Mrs. Alexander (Helga E Lindqvist)    1   \n",
       "\n",
       "    Age  SibSp  Parch   Ticket     Fare Cabin Embarked Title  \n",
       "0  34.5      0      0   330911   7.8292   NaN        Q    Mr  \n",
       "1  47.0      1      0   363272   7.0000   NaN        S   Mrs  \n",
       "2  62.0      0      0   240276   9.6875   NaN        Q    Mr  \n",
       "3  27.0      0      0   315154   8.6625   NaN        S    Mr  \n",
       "4  22.0      1      1  3101298  12.2875   NaN        S   Mrs  "
      ]
     },
     "execution_count": 53,
     "metadata": {},
     "output_type": "execute_result"
    }
   ],
   "source": [
    "Test['Sex'] = Test['Sex'].map({'male':0,'female':1})\n",
    "Test['Title'] = Test['Name'].str.extract('.+,\\s(\\w*).+') \n",
    "Test.head()\n",
    "\n"
   ]
  },
  {
   "cell_type": "code",
   "execution_count": 54,
   "metadata": {},
   "outputs": [
    {
     "data": {
      "text/html": [
       "<div>\n",
       "<style>\n",
       "    .dataframe thead tr:only-child th {\n",
       "        text-align: right;\n",
       "    }\n",
       "\n",
       "    .dataframe thead th {\n",
       "        text-align: left;\n",
       "    }\n",
       "\n",
       "    .dataframe tbody tr th {\n",
       "        vertical-align: top;\n",
       "    }\n",
       "</style>\n",
       "<table border=\"1\" class=\"dataframe\">\n",
       "  <thead>\n",
       "    <tr style=\"text-align: right;\">\n",
       "      <th></th>\n",
       "      <th>PassengerId</th>\n",
       "      <th>Pclass</th>\n",
       "      <th>Name</th>\n",
       "      <th>Sex</th>\n",
       "      <th>Age</th>\n",
       "      <th>SibSp</th>\n",
       "      <th>Parch</th>\n",
       "      <th>Ticket</th>\n",
       "      <th>Fare</th>\n",
       "      <th>Cabin</th>\n",
       "      <th>Embarked</th>\n",
       "      <th>Title</th>\n",
       "    </tr>\n",
       "  </thead>\n",
       "  <tbody>\n",
       "    <tr>\n",
       "      <th>0</th>\n",
       "      <td>892</td>\n",
       "      <td>3</td>\n",
       "      <td>Kelly, Mr. James</td>\n",
       "      <td>0</td>\n",
       "      <td>34.5</td>\n",
       "      <td>0</td>\n",
       "      <td>0</td>\n",
       "      <td>330911</td>\n",
       "      <td>7.8292</td>\n",
       "      <td>NaN</td>\n",
       "      <td>1</td>\n",
       "      <td>Mr</td>\n",
       "    </tr>\n",
       "    <tr>\n",
       "      <th>1</th>\n",
       "      <td>893</td>\n",
       "      <td>3</td>\n",
       "      <td>Wilkes, Mrs. James (Ellen Needs)</td>\n",
       "      <td>1</td>\n",
       "      <td>47.0</td>\n",
       "      <td>1</td>\n",
       "      <td>0</td>\n",
       "      <td>363272</td>\n",
       "      <td>7.0000</td>\n",
       "      <td>NaN</td>\n",
       "      <td>2</td>\n",
       "      <td>Mrs</td>\n",
       "    </tr>\n",
       "    <tr>\n",
       "      <th>2</th>\n",
       "      <td>894</td>\n",
       "      <td>2</td>\n",
       "      <td>Myles, Mr. Thomas Francis</td>\n",
       "      <td>0</td>\n",
       "      <td>62.0</td>\n",
       "      <td>0</td>\n",
       "      <td>0</td>\n",
       "      <td>240276</td>\n",
       "      <td>9.6875</td>\n",
       "      <td>NaN</td>\n",
       "      <td>1</td>\n",
       "      <td>Mr</td>\n",
       "    </tr>\n",
       "    <tr>\n",
       "      <th>3</th>\n",
       "      <td>895</td>\n",
       "      <td>3</td>\n",
       "      <td>Wirz, Mr. Albert</td>\n",
       "      <td>0</td>\n",
       "      <td>27.0</td>\n",
       "      <td>0</td>\n",
       "      <td>0</td>\n",
       "      <td>315154</td>\n",
       "      <td>8.6625</td>\n",
       "      <td>NaN</td>\n",
       "      <td>2</td>\n",
       "      <td>Mr</td>\n",
       "    </tr>\n",
       "    <tr>\n",
       "      <th>4</th>\n",
       "      <td>896</td>\n",
       "      <td>3</td>\n",
       "      <td>Hirvonen, Mrs. Alexander (Helga E Lindqvist)</td>\n",
       "      <td>1</td>\n",
       "      <td>22.0</td>\n",
       "      <td>1</td>\n",
       "      <td>1</td>\n",
       "      <td>3101298</td>\n",
       "      <td>12.2875</td>\n",
       "      <td>NaN</td>\n",
       "      <td>2</td>\n",
       "      <td>Mrs</td>\n",
       "    </tr>\n",
       "  </tbody>\n",
       "</table>\n",
       "</div>"
      ],
      "text/plain": [
       "   PassengerId  Pclass                                          Name  Sex  \\\n",
       "0          892       3                              Kelly, Mr. James    0   \n",
       "1          893       3              Wilkes, Mrs. James (Ellen Needs)    1   \n",
       "2          894       2                     Myles, Mr. Thomas Francis    0   \n",
       "3          895       3                              Wirz, Mr. Albert    0   \n",
       "4          896       3  Hirvonen, Mrs. Alexander (Helga E Lindqvist)    1   \n",
       "\n",
       "    Age  SibSp  Parch   Ticket     Fare Cabin  Embarked Title  \n",
       "0  34.5      0      0   330911   7.8292   NaN         1    Mr  \n",
       "1  47.0      1      0   363272   7.0000   NaN         2   Mrs  \n",
       "2  62.0      0      0   240276   9.6875   NaN         1    Mr  \n",
       "3  27.0      0      0   315154   8.6625   NaN         2    Mr  \n",
       "4  22.0      1      1  3101298  12.2875   NaN         2   Mrs  "
      ]
     },
     "execution_count": 54,
     "metadata": {},
     "output_type": "execute_result"
    }
   ],
   "source": [
    "Test['Title'] = Test['Title'].replace(['Don','Rev','Dr','Major','Lady','Sir','Col','Capt','the','Jonkheer','Mme','Ms','Mlle','Dona'],'Rare')    \n",
    "Test['Embarked'] = Test['Embarked'].map({'C':0,'Q':1,'S':2})\n",
    "Test.head()"
   ]
  },
  {
   "cell_type": "code",
   "execution_count": 55,
   "metadata": {},
   "outputs": [
    {
     "data": {
      "text/html": [
       "<div>\n",
       "<style>\n",
       "    .dataframe thead tr:only-child th {\n",
       "        text-align: right;\n",
       "    }\n",
       "\n",
       "    .dataframe thead th {\n",
       "        text-align: left;\n",
       "    }\n",
       "\n",
       "    .dataframe tbody tr th {\n",
       "        vertical-align: top;\n",
       "    }\n",
       "</style>\n",
       "<table border=\"1\" class=\"dataframe\">\n",
       "  <thead>\n",
       "    <tr style=\"text-align: right;\">\n",
       "      <th></th>\n",
       "      <th>PassengerId</th>\n",
       "      <th>Pclass</th>\n",
       "      <th>Name</th>\n",
       "      <th>Sex</th>\n",
       "      <th>Age_x</th>\n",
       "      <th>SibSp</th>\n",
       "      <th>Parch</th>\n",
       "      <th>Ticket</th>\n",
       "      <th>Fare</th>\n",
       "      <th>Cabin</th>\n",
       "      <th>Embarked</th>\n",
       "      <th>Title</th>\n",
       "      <th>Age_y</th>\n",
       "      <th>Age</th>\n",
       "    </tr>\n",
       "  </thead>\n",
       "  <tbody>\n",
       "    <tr>\n",
       "      <th>0</th>\n",
       "      <td>892</td>\n",
       "      <td>3</td>\n",
       "      <td>Kelly, Mr. James</td>\n",
       "      <td>0</td>\n",
       "      <td>34.5</td>\n",
       "      <td>0</td>\n",
       "      <td>0</td>\n",
       "      <td>330911</td>\n",
       "      <td>7.8292</td>\n",
       "      <td>NaN</td>\n",
       "      <td>1</td>\n",
       "      <td>Mr</td>\n",
       "      <td>32.36809</td>\n",
       "      <td>34.5</td>\n",
       "    </tr>\n",
       "    <tr>\n",
       "      <th>2</th>\n",
       "      <td>894</td>\n",
       "      <td>2</td>\n",
       "      <td>Myles, Mr. Thomas Francis</td>\n",
       "      <td>0</td>\n",
       "      <td>62.0</td>\n",
       "      <td>0</td>\n",
       "      <td>0</td>\n",
       "      <td>240276</td>\n",
       "      <td>9.6875</td>\n",
       "      <td>NaN</td>\n",
       "      <td>1</td>\n",
       "      <td>Mr</td>\n",
       "      <td>32.36809</td>\n",
       "      <td>62.0</td>\n",
       "    </tr>\n",
       "    <tr>\n",
       "      <th>3</th>\n",
       "      <td>895</td>\n",
       "      <td>3</td>\n",
       "      <td>Wirz, Mr. Albert</td>\n",
       "      <td>0</td>\n",
       "      <td>27.0</td>\n",
       "      <td>0</td>\n",
       "      <td>0</td>\n",
       "      <td>315154</td>\n",
       "      <td>8.6625</td>\n",
       "      <td>NaN</td>\n",
       "      <td>2</td>\n",
       "      <td>Mr</td>\n",
       "      <td>32.36809</td>\n",
       "      <td>27.0</td>\n",
       "    </tr>\n",
       "    <tr>\n",
       "      <th>5</th>\n",
       "      <td>897</td>\n",
       "      <td>3</td>\n",
       "      <td>Svensson, Mr. Johan Cervin</td>\n",
       "      <td>0</td>\n",
       "      <td>14.0</td>\n",
       "      <td>0</td>\n",
       "      <td>0</td>\n",
       "      <td>7538</td>\n",
       "      <td>9.2250</td>\n",
       "      <td>NaN</td>\n",
       "      <td>2</td>\n",
       "      <td>Mr</td>\n",
       "      <td>32.36809</td>\n",
       "      <td>14.0</td>\n",
       "    </tr>\n",
       "    <tr>\n",
       "      <th>7</th>\n",
       "      <td>899</td>\n",
       "      <td>2</td>\n",
       "      <td>Caldwell, Mr. Albert Francis</td>\n",
       "      <td>0</td>\n",
       "      <td>26.0</td>\n",
       "      <td>1</td>\n",
       "      <td>1</td>\n",
       "      <td>248738</td>\n",
       "      <td>29.0000</td>\n",
       "      <td>NaN</td>\n",
       "      <td>2</td>\n",
       "      <td>Mr</td>\n",
       "      <td>32.36809</td>\n",
       "      <td>26.0</td>\n",
       "    </tr>\n",
       "  </tbody>\n",
       "</table>\n",
       "</div>"
      ],
      "text/plain": [
       "   PassengerId  Pclass                          Name  Sex  Age_x  SibSp  \\\n",
       "0          892       3              Kelly, Mr. James    0   34.5      0   \n",
       "2          894       2     Myles, Mr. Thomas Francis    0   62.0      0   \n",
       "3          895       3              Wirz, Mr. Albert    0   27.0      0   \n",
       "5          897       3    Svensson, Mr. Johan Cervin    0   14.0      0   \n",
       "7          899       2  Caldwell, Mr. Albert Francis    0   26.0      1   \n",
       "\n",
       "   Parch  Ticket     Fare Cabin  Embarked Title     Age_y   Age  \n",
       "0      0  330911   7.8292   NaN         1    Mr  32.36809  34.5  \n",
       "2      0  240276   9.6875   NaN         1    Mr  32.36809  62.0  \n",
       "3      0  315154   8.6625   NaN         2    Mr  32.36809  27.0  \n",
       "5      0    7538   9.2250   NaN         2    Mr  32.36809  14.0  \n",
       "7      1  248738  29.0000   NaN         2    Mr  32.36809  26.0  "
      ]
     },
     "execution_count": 55,
     "metadata": {},
     "output_type": "execute_result"
    }
   ],
   "source": [
    "df = pd.DataFrame(Train.groupby('Title')['Age'].mean()) ## Get the mean age for each title from training set \n",
    "#df['Title'] = df.index\n",
    "Test=Test.merge(df,left_on='Title',right_index=True)\n",
    "Test['Age']= Test['Age_x'].fillna(Test['Age_y'])\n",
    "#Test.drop(['Age_x','Age_y'],axis=1,inplace=1)\n",
    "Test['Age'].isnull().sum()\n",
    "Test.head()"
   ]
  },
  {
   "cell_type": "markdown",
   "metadata": {},
   "source": [
    "Missing Age values are now filled with thier respective means. Now lets fill missing Fare values. \n",
    "Fare is determined by Pclass of the passenger and the embarked location. "
   ]
  },
  {
   "cell_type": "code",
   "execution_count": 56,
   "metadata": {
    "scrolled": true
   },
   "outputs": [
    {
     "data": {
      "text/html": [
       "<div>\n",
       "<style>\n",
       "    .dataframe thead tr:only-child th {\n",
       "        text-align: right;\n",
       "    }\n",
       "\n",
       "    .dataframe thead th {\n",
       "        text-align: left;\n",
       "    }\n",
       "\n",
       "    .dataframe tbody tr th {\n",
       "        vertical-align: top;\n",
       "    }\n",
       "</style>\n",
       "<table border=\"1\" class=\"dataframe\">\n",
       "  <thead>\n",
       "    <tr style=\"text-align: right;\">\n",
       "      <th></th>\n",
       "      <th>PassengerId</th>\n",
       "      <th>Pclass</th>\n",
       "      <th>Name</th>\n",
       "      <th>Sex</th>\n",
       "      <th>Age_x</th>\n",
       "      <th>SibSp</th>\n",
       "      <th>Parch</th>\n",
       "      <th>Ticket</th>\n",
       "      <th>Fare_x</th>\n",
       "      <th>Cabin</th>\n",
       "      <th>Embarked</th>\n",
       "      <th>Title</th>\n",
       "      <th>Age_y</th>\n",
       "      <th>Age</th>\n",
       "      <th>Fare_y</th>\n",
       "      <th>Fare</th>\n",
       "    </tr>\n",
       "  </thead>\n",
       "  <tbody>\n",
       "    <tr>\n",
       "      <th>0</th>\n",
       "      <td>892</td>\n",
       "      <td>3</td>\n",
       "      <td>Kelly, Mr. James</td>\n",
       "      <td>0</td>\n",
       "      <td>34.5</td>\n",
       "      <td>0</td>\n",
       "      <td>0</td>\n",
       "      <td>330911</td>\n",
       "      <td>7.8292</td>\n",
       "      <td>NaN</td>\n",
       "      <td>1</td>\n",
       "      <td>Mr</td>\n",
       "      <td>32.36809</td>\n",
       "      <td>34.5</td>\n",
       "      <td>7.925754</td>\n",
       "      <td>7.8292</td>\n",
       "    </tr>\n",
       "    <tr>\n",
       "      <th>2</th>\n",
       "      <td>894</td>\n",
       "      <td>2</td>\n",
       "      <td>Myles, Mr. Thomas Francis</td>\n",
       "      <td>0</td>\n",
       "      <td>62.0</td>\n",
       "      <td>0</td>\n",
       "      <td>0</td>\n",
       "      <td>240276</td>\n",
       "      <td>9.6875</td>\n",
       "      <td>NaN</td>\n",
       "      <td>1</td>\n",
       "      <td>Mr</td>\n",
       "      <td>32.36809</td>\n",
       "      <td>62.0</td>\n",
       "      <td>12.350000</td>\n",
       "      <td>9.6875</td>\n",
       "    </tr>\n",
       "    <tr>\n",
       "      <th>3</th>\n",
       "      <td>895</td>\n",
       "      <td>3</td>\n",
       "      <td>Wirz, Mr. Albert</td>\n",
       "      <td>0</td>\n",
       "      <td>27.0</td>\n",
       "      <td>0</td>\n",
       "      <td>0</td>\n",
       "      <td>315154</td>\n",
       "      <td>8.6625</td>\n",
       "      <td>NaN</td>\n",
       "      <td>2</td>\n",
       "      <td>Mr</td>\n",
       "      <td>32.36809</td>\n",
       "      <td>27.0</td>\n",
       "      <td>8.140477</td>\n",
       "      <td>8.6625</td>\n",
       "    </tr>\n",
       "    <tr>\n",
       "      <th>5</th>\n",
       "      <td>897</td>\n",
       "      <td>3</td>\n",
       "      <td>Svensson, Mr. Johan Cervin</td>\n",
       "      <td>0</td>\n",
       "      <td>14.0</td>\n",
       "      <td>0</td>\n",
       "      <td>0</td>\n",
       "      <td>7538</td>\n",
       "      <td>9.2250</td>\n",
       "      <td>NaN</td>\n",
       "      <td>2</td>\n",
       "      <td>Mr</td>\n",
       "      <td>32.36809</td>\n",
       "      <td>14.0</td>\n",
       "      <td>8.140477</td>\n",
       "      <td>9.2250</td>\n",
       "    </tr>\n",
       "    <tr>\n",
       "      <th>7</th>\n",
       "      <td>899</td>\n",
       "      <td>2</td>\n",
       "      <td>Caldwell, Mr. Albert Francis</td>\n",
       "      <td>0</td>\n",
       "      <td>26.0</td>\n",
       "      <td>1</td>\n",
       "      <td>1</td>\n",
       "      <td>248738</td>\n",
       "      <td>29.0000</td>\n",
       "      <td>NaN</td>\n",
       "      <td>2</td>\n",
       "      <td>Mr</td>\n",
       "      <td>32.36809</td>\n",
       "      <td>26.0</td>\n",
       "      <td>13.155183</td>\n",
       "      <td>29.0000</td>\n",
       "    </tr>\n",
       "  </tbody>\n",
       "</table>\n",
       "</div>"
      ],
      "text/plain": [
       "   PassengerId  Pclass                          Name  Sex  Age_x  SibSp  \\\n",
       "0          892       3              Kelly, Mr. James    0   34.5      0   \n",
       "2          894       2     Myles, Mr. Thomas Francis    0   62.0      0   \n",
       "3          895       3              Wirz, Mr. Albert    0   27.0      0   \n",
       "5          897       3    Svensson, Mr. Johan Cervin    0   14.0      0   \n",
       "7          899       2  Caldwell, Mr. Albert Francis    0   26.0      1   \n",
       "\n",
       "   Parch  Ticket   Fare_x Cabin Embarked Title     Age_y   Age     Fare_y  \\\n",
       "0      0  330911   7.8292   NaN        1    Mr  32.36809  34.5   7.925754   \n",
       "2      0  240276   9.6875   NaN        1    Mr  32.36809  62.0  12.350000   \n",
       "3      0  315154   8.6625   NaN        2    Mr  32.36809  27.0   8.140477   \n",
       "5      0    7538   9.2250   NaN        2    Mr  32.36809  14.0   8.140477   \n",
       "7      1  248738  29.0000   NaN        2    Mr  32.36809  26.0  13.155183   \n",
       "\n",
       "      Fare  \n",
       "0   7.8292  \n",
       "2   9.6875  \n",
       "3   8.6625  \n",
       "5   9.2250  \n",
       "7  29.0000  "
      ]
     },
     "execution_count": 56,
     "metadata": {},
     "output_type": "execute_result"
    }
   ],
   "source": [
    "Test['Fare']=Test.groupby('Ticket')['Fare'].apply(lambda x : x/len(x))\n",
    "df =  pd.DataFrame(Train.groupby(['Pclass','Embarked'])['Fare'].mean())\n",
    "\n",
    "Test = Test.merge(df,how='left',left_on=['Pclass','Embarked'],right_index=True)\n",
    "Test['Fare']= Test['Fare_x'].fillna(Test['Fare_y'])\n",
    "#Test.drop(['Fare_x','Fare_y'],axis=1,inplace=1)\n",
    "Test.head()"
   ]
  },
  {
   "cell_type": "markdown",
   "metadata": {},
   "source": [
    "Now that Fare has been taken care of. Lets fill the missing cabin values using our previous method."
   ]
  },
  {
   "cell_type": "code",
   "execution_count": 57,
   "metadata": {},
   "outputs": [
    {
     "name": "stderr",
     "output_type": "stream",
     "text": [
      "/usr/local/lib/python2.7/dist-packages/ipykernel_launcher.py:1: FutureWarning: currently extract(expand=None) means expand=False (return Index/Series/DataFrame) but in a future version of pandas this will be changed to expand=True (return DataFrame)\n",
      "  \"\"\"Entry point for launching an IPython kernel.\n"
     ]
    }
   ],
   "source": [
    "Test['Cab'] = Test['Cabin'].str.extract('(\\w)')\n",
    "Test['Cab']=Test.groupby('Ticket')['Cab'].apply(lambda x:x.fillna(method='bfill').fillna(method='ffill').fillna(method='bfill'))\n",
    "Test['Cab'] = Test['Cab'].replace(np.nan,'Other')"
   ]
  },
  {
   "cell_type": "markdown",
   "metadata": {},
   "source": [
    "Further it may happen that tickets were shared by the passengers in the test set with passengers in the Training Set. Let use this knowledge too.  "
   ]
  },
  {
   "cell_type": "code",
   "execution_count": 58,
   "metadata": {},
   "outputs": [
    {
     "data": {
      "text/html": [
       "<div>\n",
       "<style>\n",
       "    .dataframe thead tr:only-child th {\n",
       "        text-align: right;\n",
       "    }\n",
       "\n",
       "    .dataframe thead th {\n",
       "        text-align: left;\n",
       "    }\n",
       "\n",
       "    .dataframe tbody tr th {\n",
       "        vertical-align: top;\n",
       "    }\n",
       "</style>\n",
       "<table border=\"1\" class=\"dataframe\">\n",
       "  <thead>\n",
       "    <tr style=\"text-align: right;\">\n",
       "      <th></th>\n",
       "      <th>PassengerId</th>\n",
       "      <th>Pclass</th>\n",
       "      <th>Name</th>\n",
       "      <th>Sex</th>\n",
       "      <th>Age_x</th>\n",
       "      <th>SibSp</th>\n",
       "      <th>Parch</th>\n",
       "      <th>Ticket</th>\n",
       "      <th>Fare_x</th>\n",
       "      <th>Cabin</th>\n",
       "      <th>Embarked</th>\n",
       "      <th>Title</th>\n",
       "      <th>Age_y</th>\n",
       "      <th>Age</th>\n",
       "      <th>Fare_y</th>\n",
       "      <th>Fare</th>\n",
       "      <th>Cab</th>\n",
       "    </tr>\n",
       "  </thead>\n",
       "  <tbody>\n",
       "    <tr>\n",
       "      <th>0</th>\n",
       "      <td>892</td>\n",
       "      <td>3</td>\n",
       "      <td>Kelly, Mr. James</td>\n",
       "      <td>0</td>\n",
       "      <td>34.5</td>\n",
       "      <td>0</td>\n",
       "      <td>0</td>\n",
       "      <td>330911</td>\n",
       "      <td>7.8292</td>\n",
       "      <td>NaN</td>\n",
       "      <td>1</td>\n",
       "      <td>Mr</td>\n",
       "      <td>32.36809</td>\n",
       "      <td>34.5</td>\n",
       "      <td>7.925754</td>\n",
       "      <td>7.8292</td>\n",
       "      <td>Other</td>\n",
       "    </tr>\n",
       "    <tr>\n",
       "      <th>2</th>\n",
       "      <td>894</td>\n",
       "      <td>2</td>\n",
       "      <td>Myles, Mr. Thomas Francis</td>\n",
       "      <td>0</td>\n",
       "      <td>62.0</td>\n",
       "      <td>0</td>\n",
       "      <td>0</td>\n",
       "      <td>240276</td>\n",
       "      <td>9.6875</td>\n",
       "      <td>NaN</td>\n",
       "      <td>1</td>\n",
       "      <td>Mr</td>\n",
       "      <td>32.36809</td>\n",
       "      <td>62.0</td>\n",
       "      <td>12.350000</td>\n",
       "      <td>9.6875</td>\n",
       "      <td>Other</td>\n",
       "    </tr>\n",
       "    <tr>\n",
       "      <th>3</th>\n",
       "      <td>895</td>\n",
       "      <td>3</td>\n",
       "      <td>Wirz, Mr. Albert</td>\n",
       "      <td>0</td>\n",
       "      <td>27.0</td>\n",
       "      <td>0</td>\n",
       "      <td>0</td>\n",
       "      <td>315154</td>\n",
       "      <td>8.6625</td>\n",
       "      <td>NaN</td>\n",
       "      <td>2</td>\n",
       "      <td>Mr</td>\n",
       "      <td>32.36809</td>\n",
       "      <td>27.0</td>\n",
       "      <td>8.140477</td>\n",
       "      <td>8.6625</td>\n",
       "      <td>C</td>\n",
       "    </tr>\n",
       "    <tr>\n",
       "      <th>5</th>\n",
       "      <td>897</td>\n",
       "      <td>3</td>\n",
       "      <td>Svensson, Mr. Johan Cervin</td>\n",
       "      <td>0</td>\n",
       "      <td>14.0</td>\n",
       "      <td>0</td>\n",
       "      <td>0</td>\n",
       "      <td>7538</td>\n",
       "      <td>9.2250</td>\n",
       "      <td>NaN</td>\n",
       "      <td>2</td>\n",
       "      <td>Mr</td>\n",
       "      <td>32.36809</td>\n",
       "      <td>14.0</td>\n",
       "      <td>8.140477</td>\n",
       "      <td>9.2250</td>\n",
       "      <td>Other</td>\n",
       "    </tr>\n",
       "    <tr>\n",
       "      <th>7</th>\n",
       "      <td>899</td>\n",
       "      <td>2</td>\n",
       "      <td>Caldwell, Mr. Albert Francis</td>\n",
       "      <td>0</td>\n",
       "      <td>26.0</td>\n",
       "      <td>1</td>\n",
       "      <td>1</td>\n",
       "      <td>248738</td>\n",
       "      <td>29.0000</td>\n",
       "      <td>NaN</td>\n",
       "      <td>2</td>\n",
       "      <td>Mr</td>\n",
       "      <td>32.36809</td>\n",
       "      <td>26.0</td>\n",
       "      <td>13.155183</td>\n",
       "      <td>29.0000</td>\n",
       "      <td>Other</td>\n",
       "    </tr>\n",
       "  </tbody>\n",
       "</table>\n",
       "</div>"
      ],
      "text/plain": [
       "   PassengerId  Pclass                          Name  Sex  Age_x  SibSp  \\\n",
       "0          892       3              Kelly, Mr. James    0   34.5      0   \n",
       "2          894       2     Myles, Mr. Thomas Francis    0   62.0      0   \n",
       "3          895       3              Wirz, Mr. Albert    0   27.0      0   \n",
       "5          897       3    Svensson, Mr. Johan Cervin    0   14.0      0   \n",
       "7          899       2  Caldwell, Mr. Albert Francis    0   26.0      1   \n",
       "\n",
       "   Parch  Ticket   Fare_x Cabin Embarked Title     Age_y   Age     Fare_y  \\\n",
       "0      0  330911   7.8292   NaN        1    Mr  32.36809  34.5   7.925754   \n",
       "2      0  240276   9.6875   NaN        1    Mr  32.36809  62.0  12.350000   \n",
       "3      0  315154   8.6625   NaN        2    Mr  32.36809  27.0   8.140477   \n",
       "5      0    7538   9.2250   NaN        2    Mr  32.36809  14.0   8.140477   \n",
       "7      1  248738  29.0000   NaN        2    Mr  32.36809  26.0  13.155183   \n",
       "\n",
       "      Fare    Cab  \n",
       "0   7.8292  Other  \n",
       "2   9.6875  Other  \n",
       "3   8.6625      C  \n",
       "5   9.2250  Other  \n",
       "7  29.0000  Other  "
      ]
     },
     "execution_count": 58,
     "metadata": {},
     "output_type": "execute_result"
    }
   ],
   "source": [
    "df = Train.merge(Test,on='Ticket',how='left')\n",
    "Test['Cab'] = df['Cab_y'].fillna(df['Cab_x'])\n",
    "Test.head()"
   ]
  },
  {
   "cell_type": "markdown",
   "metadata": {},
   "source": [
    "After filling up all the values lets build our Test features"
   ]
  },
  {
   "cell_type": "code",
   "execution_count": 59,
   "metadata": {},
   "outputs": [
    {
     "data": {
      "text/html": [
       "<div>\n",
       "<style>\n",
       "    .dataframe thead tr:only-child th {\n",
       "        text-align: right;\n",
       "    }\n",
       "\n",
       "    .dataframe thead th {\n",
       "        text-align: left;\n",
       "    }\n",
       "\n",
       "    .dataframe tbody tr th {\n",
       "        vertical-align: top;\n",
       "    }\n",
       "</style>\n",
       "<table border=\"1\" class=\"dataframe\">\n",
       "  <thead>\n",
       "    <tr style=\"text-align: right;\">\n",
       "      <th></th>\n",
       "      <th>PassengerId</th>\n",
       "      <th>Pclass</th>\n",
       "      <th>Name</th>\n",
       "      <th>Sex</th>\n",
       "      <th>Age_x</th>\n",
       "      <th>SibSp</th>\n",
       "      <th>Parch</th>\n",
       "      <th>Ticket</th>\n",
       "      <th>Fare_x</th>\n",
       "      <th>Cabin</th>\n",
       "      <th>...</th>\n",
       "      <th>Child</th>\n",
       "      <th>Ch</th>\n",
       "      <th>Q</th>\n",
       "      <th>S</th>\n",
       "      <th>Master</th>\n",
       "      <th>Miss</th>\n",
       "      <th>Mr</th>\n",
       "      <th>Mrs</th>\n",
       "      <th>Rare</th>\n",
       "      <th>Family</th>\n",
       "    </tr>\n",
       "  </thead>\n",
       "  <tbody>\n",
       "    <tr>\n",
       "      <th>0</th>\n",
       "      <td>892</td>\n",
       "      <td>3</td>\n",
       "      <td>Kelly, Mr. James</td>\n",
       "      <td>0</td>\n",
       "      <td>34.5</td>\n",
       "      <td>0</td>\n",
       "      <td>0</td>\n",
       "      <td>330911</td>\n",
       "      <td>7.8292</td>\n",
       "      <td>NaN</td>\n",
       "      <td>...</td>\n",
       "      <td>0</td>\n",
       "      <td>0</td>\n",
       "      <td>1</td>\n",
       "      <td>0</td>\n",
       "      <td>0</td>\n",
       "      <td>0</td>\n",
       "      <td>1</td>\n",
       "      <td>0</td>\n",
       "      <td>0</td>\n",
       "      <td>1</td>\n",
       "    </tr>\n",
       "    <tr>\n",
       "      <th>2</th>\n",
       "      <td>894</td>\n",
       "      <td>2</td>\n",
       "      <td>Myles, Mr. Thomas Francis</td>\n",
       "      <td>0</td>\n",
       "      <td>62.0</td>\n",
       "      <td>0</td>\n",
       "      <td>0</td>\n",
       "      <td>240276</td>\n",
       "      <td>9.6875</td>\n",
       "      <td>NaN</td>\n",
       "      <td>...</td>\n",
       "      <td>0</td>\n",
       "      <td>0</td>\n",
       "      <td>1</td>\n",
       "      <td>0</td>\n",
       "      <td>0</td>\n",
       "      <td>0</td>\n",
       "      <td>1</td>\n",
       "      <td>0</td>\n",
       "      <td>0</td>\n",
       "      <td>1</td>\n",
       "    </tr>\n",
       "    <tr>\n",
       "      <th>3</th>\n",
       "      <td>895</td>\n",
       "      <td>3</td>\n",
       "      <td>Wirz, Mr. Albert</td>\n",
       "      <td>0</td>\n",
       "      <td>27.0</td>\n",
       "      <td>0</td>\n",
       "      <td>0</td>\n",
       "      <td>315154</td>\n",
       "      <td>8.6625</td>\n",
       "      <td>NaN</td>\n",
       "      <td>...</td>\n",
       "      <td>0</td>\n",
       "      <td>0</td>\n",
       "      <td>0</td>\n",
       "      <td>1</td>\n",
       "      <td>0</td>\n",
       "      <td>0</td>\n",
       "      <td>1</td>\n",
       "      <td>0</td>\n",
       "      <td>0</td>\n",
       "      <td>1</td>\n",
       "    </tr>\n",
       "    <tr>\n",
       "      <th>5</th>\n",
       "      <td>897</td>\n",
       "      <td>3</td>\n",
       "      <td>Svensson, Mr. Johan Cervin</td>\n",
       "      <td>0</td>\n",
       "      <td>14.0</td>\n",
       "      <td>0</td>\n",
       "      <td>0</td>\n",
       "      <td>7538</td>\n",
       "      <td>9.2250</td>\n",
       "      <td>NaN</td>\n",
       "      <td>...</td>\n",
       "      <td>1</td>\n",
       "      <td>0</td>\n",
       "      <td>0</td>\n",
       "      <td>1</td>\n",
       "      <td>0</td>\n",
       "      <td>0</td>\n",
       "      <td>1</td>\n",
       "      <td>0</td>\n",
       "      <td>0</td>\n",
       "      <td>1</td>\n",
       "    </tr>\n",
       "    <tr>\n",
       "      <th>7</th>\n",
       "      <td>899</td>\n",
       "      <td>2</td>\n",
       "      <td>Caldwell, Mr. Albert Francis</td>\n",
       "      <td>0</td>\n",
       "      <td>26.0</td>\n",
       "      <td>1</td>\n",
       "      <td>1</td>\n",
       "      <td>248738</td>\n",
       "      <td>29.0000</td>\n",
       "      <td>NaN</td>\n",
       "      <td>...</td>\n",
       "      <td>0</td>\n",
       "      <td>0</td>\n",
       "      <td>0</td>\n",
       "      <td>1</td>\n",
       "      <td>0</td>\n",
       "      <td>0</td>\n",
       "      <td>1</td>\n",
       "      <td>0</td>\n",
       "      <td>0</td>\n",
       "      <td>3</td>\n",
       "    </tr>\n",
       "  </tbody>\n",
       "</table>\n",
       "<p>5 rows × 38 columns</p>\n",
       "</div>"
      ],
      "text/plain": [
       "   PassengerId  Pclass                          Name  Sex  Age_x  SibSp  \\\n",
       "0          892       3              Kelly, Mr. James    0   34.5      0   \n",
       "2          894       2     Myles, Mr. Thomas Francis    0   62.0      0   \n",
       "3          895       3              Wirz, Mr. Albert    0   27.0      0   \n",
       "5          897       3    Svensson, Mr. Johan Cervin    0   14.0      0   \n",
       "7          899       2  Caldwell, Mr. Albert Francis    0   26.0      1   \n",
       "\n",
       "   Parch  Ticket   Fare_x Cabin   ...   Child Ch  Q  S  Master  Miss Mr  Mrs  \\\n",
       "0      0  330911   7.8292   NaN   ...       0  0  1  0       0     0  1    0   \n",
       "2      0  240276   9.6875   NaN   ...       0  0  1  0       0     0  1    0   \n",
       "3      0  315154   8.6625   NaN   ...       0  0  0  1       0     0  1    0   \n",
       "5      0    7538   9.2250   NaN   ...       1  0  0  1       0     0  1    0   \n",
       "7      1  248738  29.0000   NaN   ...       0  0  0  1       0     0  1    0   \n",
       "\n",
       "   Rare  Family  \n",
       "0     0       1  \n",
       "2     0       1  \n",
       "3     0       1  \n",
       "5     0       1  \n",
       "7     0       3  \n",
       "\n",
       "[5 rows x 38 columns]"
      ]
     },
     "execution_count": 59,
     "metadata": {},
     "output_type": "execute_result"
    }
   ],
   "source": [
    "Test = pd.concat([Test, pd.get_dummies(Test['Cab'])], axis=1)\n",
    "Test['age'] = Test['Age'].apply(lambda Age: 'Adult' if Age > 15 else 'Child') \n",
    "Test = pd.concat([Test, pd.get_dummies(Test['age'])], axis=1); Test.drop('age',1)\n",
    "Test[['Ch','Q','S']]= pd.get_dummies(Test['Embarked'])\n",
    "Test = pd.concat([Test, pd.get_dummies(Test['Title'])], axis=1); \n",
    "Test['Family'] = Test['SibSp']+Test['Parch']+1\n",
    "\n",
    "Test.head()"
   ]
  },
  {
   "cell_type": "code",
   "execution_count": 60,
   "metadata": {
    "scrolled": false
   },
   "outputs": [
    {
     "name": "stdout",
     "output_type": "stream",
     "text": [
      "<class 'pandas.core.frame.DataFrame'>\n",
      "Int64Index: 418 entries, 0 to 414\n",
      "Data columns (total 25 columns):\n",
      "Pclass    418 non-null int64\n",
      "SibSp     418 non-null int64\n",
      "Parch     418 non-null int64\n",
      "Family    418 non-null int64\n",
      "Sex       418 non-null int64\n",
      "Fare      418 non-null float64\n",
      "Ch        418 non-null uint8\n",
      "Q         418 non-null uint8\n",
      "S         418 non-null uint8\n",
      "Mr        418 non-null uint8\n",
      "Mrs       418 non-null uint8\n",
      "Miss      418 non-null uint8\n",
      "Rare      418 non-null uint8\n",
      "Master    418 non-null uint8\n",
      "Adult     418 non-null uint8\n",
      "Child     418 non-null uint8\n",
      "A         418 non-null uint8\n",
      "B         418 non-null uint8\n",
      "C         418 non-null uint8\n",
      "D         418 non-null uint8\n",
      "E         418 non-null uint8\n",
      "F         418 non-null uint8\n",
      "G         418 non-null uint8\n",
      "T         418 non-null uint8\n",
      "Other     418 non-null uint8\n",
      "dtypes: float64(1), int64(5), uint8(19)\n",
      "memory usage: 30.6 KB\n"
     ]
    }
   ],
   "source": [
    "X_Test = Test[['Pclass','SibSp','Parch','Family','Sex','Fare','Ch','Q','S','Mr','Mrs','Miss','Rare','Master','Adult','Child','A','B','C','D','E','F','G','T','Other']] \n",
    "\n",
    "X_Test.info()"
   ]
  },
  {
   "cell_type": "code",
   "execution_count": 61,
   "metadata": {},
   "outputs": [],
   "source": [
    "pred = clf.best_estimator_.predict(X_Test)\n",
    "res = pd.DataFrame(Test['PassengerId'])\n",
    "res['Survived'] = pred\n",
    "res.to_csv('result.csv',index =False)"
   ]
  },
  {
   "cell_type": "markdown",
   "metadata": {},
   "source": [
    "Lets try training on other models and select the best classifier among them "
   ]
  },
  {
   "cell_type": "code",
   "execution_count": 62,
   "metadata": {
    "scrolled": true
   },
   "outputs": [
    {
     "data": {
      "text/plain": [
       "0.82267115600448937"
      ]
     },
     "execution_count": 62,
     "metadata": {},
     "output_type": "execute_result"
    }
   ],
   "source": [
    "X = Train[['Pclass','SibSp','Parch','Family','Sex','Fare','Ch','Q','S','Mr','Mrs','Miss','Rare','Master','Adult','Child']] \n",
    "dtree = DecisionTreeClassifier()\n",
    "parameters = [{'criterion':['gini','entropy'],'max_depth':[1,10,20,50,100],'min_samples_split':[2,10,20,30,40,50]}]\n",
    "clf_dtree = GridSearchCV(dtree,parameters,cv=25)\n",
    "clf_dtree.fit(X,Y)\n",
    "clf_dtree.best_score_"
   ]
  },
  {
   "cell_type": "code",
   "execution_count": 63,
   "metadata": {},
   "outputs": [
    {
     "data": {
      "text/plain": [
       "0.83277216610549942"
      ]
     },
     "execution_count": 63,
     "metadata": {},
     "output_type": "execute_result"
    }
   ],
   "source": [
    "from sklearn.ensemble import AdaBoostClassifier\n",
    "X = Train[['Pclass','SibSp','Parch','Family','Sex','Fare','Ch','Q','S','Mr','Mrs','Miss','Rare','Master','Adult','Child']] \n",
    "Ada = AdaBoostClassifier()\n",
    "parameters = [{'n_estimators':[1,10,20,50,100],'learning_rate':[0.1,0.2,0.4,0.6,1]}]\n",
    "clf_ada = GridSearchCV(Ada,parameters,cv=25)\n",
    "clf_ada.fit(X,Y)\n",
    "clf_ada.best_score_"
   ]
  },
  {
   "cell_type": "code",
   "execution_count": 64,
   "metadata": {},
   "outputs": [
    {
     "data": {
      "text/plain": [
       "0.8058361391694725"
      ]
     },
     "execution_count": 64,
     "metadata": {},
     "output_type": "execute_result"
    }
   ],
   "source": [
    "from sklearn.ensemble import RandomForestClassifier\n",
    "X = Train[['Pclass','SibSp','Parch','Family','Sex','Fare','Ch','Q','S','Mr','Mrs','Miss','Rare','Master','Adult','Child']] \n",
    "dFor = RandomForestClassifier() \n",
    "parameters = [{'n_estimators':[5,10,20,50],'criterion':['gini','entropy']}]\n",
    "clf_dfor = GridSearchCV(dFor,parameters,cv=25)\n",
    "clf_dfor.fit(X,Y)\n",
    "clf_dfor.best_score_\n",
    "#print(clf.cv_results_['mean_test_score'])\n",
    "\n",
    "#print(clf.cv_results_['mean_train_score'])\n",
    "\n",
    "#print(clf.best_params_)"
   ]
  },
  {
   "cell_type": "markdown",
   "metadata": {},
   "source": [
    "Clearly adaboost classifier performs better so we will run the final model on that classifier "
   ]
  },
  {
   "cell_type": "code",
   "execution_count": 66,
   "metadata": {},
   "outputs": [],
   "source": [
    "X_Test = Test[['Pclass','SibSp','Parch','Family','Sex','Fare','Ch','Q','S','Mr','Mrs','Miss','Rare','Master','Adult','Child']] \n",
    "pred = clf_ada.best_estimator_.predict(X_Test)\n",
    "res = pd.DataFrame(Test['PassengerId'])\n",
    "res['Survived'] = pred\n",
    "res.to_csv('result.csv',index =False)\n"
   ]
  },
  {
   "cell_type": "code",
   "execution_count": null,
   "metadata": {},
   "outputs": [],
   "source": []
  }
 ],
 "metadata": {
  "kernelspec": {
   "display_name": "Python 2",
   "language": "python",
   "name": "python2"
  },
  "language_info": {
   "codemirror_mode": {
    "name": "ipython",
    "version": 2
   },
   "file_extension": ".py",
   "mimetype": "text/x-python",
   "name": "python",
   "nbconvert_exporter": "python",
   "pygments_lexer": "ipython2",
   "version": "2.7.12"
  }
 },
 "nbformat": 4,
 "nbformat_minor": 2
}
